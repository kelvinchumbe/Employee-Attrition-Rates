{
 "cells": [
  {
   "cell_type": "code",
   "execution_count": 111,
   "metadata": {},
   "outputs": [],
   "source": [
    "# import required dependecies\n",
    "import pandas as pd\n",
    "import numpy as np\n",
    "import matplotlib.pyplot as plt\n",
    "import seaborn as sns\n",
    "sns.set()\n",
    "\n",
    "%matplotlib inline"
   ]
  },
  {
   "cell_type": "code",
   "execution_count": 112,
   "metadata": {},
   "outputs": [],
   "source": [
    "# Set display options\n",
    "pd.set_option(\"display.max_columns\", 300)\n",
    "pd.set_option(\"display.max_rows\", 300)"
   ]
  },
  {
   "cell_type": "code",
   "execution_count": 260,
   "metadata": {},
   "outputs": [],
   "source": [
    "# Read in the data\n",
    "employees = pd.read_csv('./Attrition_Rate_Prediction/Dataset/Train.csv')"
   ]
  },
  {
   "cell_type": "code",
   "execution_count": 114,
   "metadata": {},
   "outputs": [],
   "source": [
    "# Create a copy of the dataframe\n",
    "copy_employees = employees.copy()"
   ]
  },
  {
   "cell_type": "code",
   "execution_count": 261,
   "metadata": {
    "scrolled": false
   },
   "outputs": [
    {
     "data": {
      "text/html": [
       "<div>\n",
       "<style scoped>\n",
       "    .dataframe tbody tr th:only-of-type {\n",
       "        vertical-align: middle;\n",
       "    }\n",
       "\n",
       "    .dataframe tbody tr th {\n",
       "        vertical-align: top;\n",
       "    }\n",
       "\n",
       "    .dataframe thead th {\n",
       "        text-align: right;\n",
       "    }\n",
       "</style>\n",
       "<table border=\"1\" class=\"dataframe\">\n",
       "  <thead>\n",
       "    <tr style=\"text-align: right;\">\n",
       "      <th></th>\n",
       "      <th>Employee_ID</th>\n",
       "      <th>Gender</th>\n",
       "      <th>Age</th>\n",
       "      <th>Education_Level</th>\n",
       "      <th>Relationship_Status</th>\n",
       "      <th>Hometown</th>\n",
       "      <th>Unit</th>\n",
       "      <th>Decision_skill_possess</th>\n",
       "      <th>Time_of_service</th>\n",
       "      <th>Time_since_promotion</th>\n",
       "      <th>growth_rate</th>\n",
       "      <th>Travel_Rate</th>\n",
       "      <th>Post_Level</th>\n",
       "      <th>Pay_Scale</th>\n",
       "      <th>Compensation_and_Benefits</th>\n",
       "      <th>Work_Life_balance</th>\n",
       "      <th>VAR1</th>\n",
       "      <th>VAR2</th>\n",
       "      <th>VAR3</th>\n",
       "      <th>VAR4</th>\n",
       "      <th>VAR5</th>\n",
       "      <th>VAR6</th>\n",
       "      <th>VAR7</th>\n",
       "      <th>Attrition_rate</th>\n",
       "    </tr>\n",
       "  </thead>\n",
       "  <tbody>\n",
       "    <tr>\n",
       "      <th>0</th>\n",
       "      <td>EID_23371</td>\n",
       "      <td>F</td>\n",
       "      <td>42.0</td>\n",
       "      <td>4</td>\n",
       "      <td>Married</td>\n",
       "      <td>Franklin</td>\n",
       "      <td>IT</td>\n",
       "      <td>Conceptual</td>\n",
       "      <td>4.0</td>\n",
       "      <td>4</td>\n",
       "      <td>33</td>\n",
       "      <td>1</td>\n",
       "      <td>1</td>\n",
       "      <td>7.0</td>\n",
       "      <td>type2</td>\n",
       "      <td>3.0</td>\n",
       "      <td>4</td>\n",
       "      <td>0.7516</td>\n",
       "      <td>1.8688</td>\n",
       "      <td>2.0</td>\n",
       "      <td>4</td>\n",
       "      <td>5</td>\n",
       "      <td>3</td>\n",
       "      <td>0.1841</td>\n",
       "    </tr>\n",
       "    <tr>\n",
       "      <th>1</th>\n",
       "      <td>EID_18000</td>\n",
       "      <td>M</td>\n",
       "      <td>24.0</td>\n",
       "      <td>3</td>\n",
       "      <td>Single</td>\n",
       "      <td>Springfield</td>\n",
       "      <td>Logistics</td>\n",
       "      <td>Analytical</td>\n",
       "      <td>5.0</td>\n",
       "      <td>4</td>\n",
       "      <td>36</td>\n",
       "      <td>0</td>\n",
       "      <td>3</td>\n",
       "      <td>6.0</td>\n",
       "      <td>type2</td>\n",
       "      <td>4.0</td>\n",
       "      <td>3</td>\n",
       "      <td>-0.9612</td>\n",
       "      <td>-0.4537</td>\n",
       "      <td>2.0</td>\n",
       "      <td>3</td>\n",
       "      <td>5</td>\n",
       "      <td>3</td>\n",
       "      <td>0.0670</td>\n",
       "    </tr>\n",
       "    <tr>\n",
       "      <th>2</th>\n",
       "      <td>EID_3891</td>\n",
       "      <td>F</td>\n",
       "      <td>58.0</td>\n",
       "      <td>3</td>\n",
       "      <td>Married</td>\n",
       "      <td>Clinton</td>\n",
       "      <td>Quality</td>\n",
       "      <td>Conceptual</td>\n",
       "      <td>27.0</td>\n",
       "      <td>3</td>\n",
       "      <td>51</td>\n",
       "      <td>0</td>\n",
       "      <td>2</td>\n",
       "      <td>8.0</td>\n",
       "      <td>type2</td>\n",
       "      <td>1.0</td>\n",
       "      <td>4</td>\n",
       "      <td>-0.9612</td>\n",
       "      <td>-0.4537</td>\n",
       "      <td>3.0</td>\n",
       "      <td>3</td>\n",
       "      <td>8</td>\n",
       "      <td>3</td>\n",
       "      <td>0.0851</td>\n",
       "    </tr>\n",
       "    <tr>\n",
       "      <th>3</th>\n",
       "      <td>EID_17492</td>\n",
       "      <td>F</td>\n",
       "      <td>26.0</td>\n",
       "      <td>3</td>\n",
       "      <td>Single</td>\n",
       "      <td>Lebanon</td>\n",
       "      <td>Human Resource Management</td>\n",
       "      <td>Behavioral</td>\n",
       "      <td>4.0</td>\n",
       "      <td>3</td>\n",
       "      <td>56</td>\n",
       "      <td>1</td>\n",
       "      <td>3</td>\n",
       "      <td>8.0</td>\n",
       "      <td>type2</td>\n",
       "      <td>1.0</td>\n",
       "      <td>3</td>\n",
       "      <td>-1.8176</td>\n",
       "      <td>-0.4537</td>\n",
       "      <td>NaN</td>\n",
       "      <td>3</td>\n",
       "      <td>7</td>\n",
       "      <td>3</td>\n",
       "      <td>0.0668</td>\n",
       "    </tr>\n",
       "    <tr>\n",
       "      <th>4</th>\n",
       "      <td>EID_22534</td>\n",
       "      <td>F</td>\n",
       "      <td>31.0</td>\n",
       "      <td>1</td>\n",
       "      <td>Married</td>\n",
       "      <td>Springfield</td>\n",
       "      <td>Logistics</td>\n",
       "      <td>Conceptual</td>\n",
       "      <td>5.0</td>\n",
       "      <td>4</td>\n",
       "      <td>62</td>\n",
       "      <td>1</td>\n",
       "      <td>3</td>\n",
       "      <td>2.0</td>\n",
       "      <td>type3</td>\n",
       "      <td>3.0</td>\n",
       "      <td>1</td>\n",
       "      <td>0.7516</td>\n",
       "      <td>-0.4537</td>\n",
       "      <td>2.0</td>\n",
       "      <td>2</td>\n",
       "      <td>8</td>\n",
       "      <td>2</td>\n",
       "      <td>0.1827</td>\n",
       "    </tr>\n",
       "  </tbody>\n",
       "</table>\n",
       "</div>"
      ],
      "text/plain": [
       "  Employee_ID Gender   Age  Education_Level Relationship_Status     Hometown  \\\n",
       "0   EID_23371      F  42.0                4             Married     Franklin   \n",
       "1   EID_18000      M  24.0                3              Single  Springfield   \n",
       "2    EID_3891      F  58.0                3             Married      Clinton   \n",
       "3   EID_17492      F  26.0                3              Single      Lebanon   \n",
       "4   EID_22534      F  31.0                1             Married  Springfield   \n",
       "\n",
       "                        Unit Decision_skill_possess  Time_of_service  \\\n",
       "0                         IT             Conceptual              4.0   \n",
       "1                  Logistics             Analytical              5.0   \n",
       "2                    Quality             Conceptual             27.0   \n",
       "3  Human Resource Management             Behavioral              4.0   \n",
       "4                  Logistics             Conceptual              5.0   \n",
       "\n",
       "   Time_since_promotion  growth_rate  Travel_Rate  Post_Level  Pay_Scale  \\\n",
       "0                     4           33            1           1        7.0   \n",
       "1                     4           36            0           3        6.0   \n",
       "2                     3           51            0           2        8.0   \n",
       "3                     3           56            1           3        8.0   \n",
       "4                     4           62            1           3        2.0   \n",
       "\n",
       "  Compensation_and_Benefits  Work_Life_balance  VAR1    VAR2    VAR3  VAR4  \\\n",
       "0                     type2                3.0     4  0.7516  1.8688   2.0   \n",
       "1                     type2                4.0     3 -0.9612 -0.4537   2.0   \n",
       "2                     type2                1.0     4 -0.9612 -0.4537   3.0   \n",
       "3                     type2                1.0     3 -1.8176 -0.4537   NaN   \n",
       "4                     type3                3.0     1  0.7516 -0.4537   2.0   \n",
       "\n",
       "   VAR5  VAR6  VAR7  Attrition_rate  \n",
       "0     4     5     3          0.1841  \n",
       "1     3     5     3          0.0670  \n",
       "2     3     8     3          0.0851  \n",
       "3     3     7     3          0.0668  \n",
       "4     2     8     2          0.1827  "
      ]
     },
     "execution_count": 261,
     "metadata": {},
     "output_type": "execute_result"
    }
   ],
   "source": [
    "employees.head(5)"
   ]
  },
  {
   "cell_type": "code",
   "execution_count": 262,
   "metadata": {},
   "outputs": [
    {
     "data": {
      "text/plain": [
       "162"
      ]
     },
     "execution_count": 262,
     "metadata": {},
     "output_type": "execute_result"
    }
   ],
   "source": [
    "employees[employees['Time_of_service'] == 0].shape[0]"
   ]
  },
  {
   "cell_type": "code",
   "execution_count": 263,
   "metadata": {},
   "outputs": [
    {
     "data": {
      "text/plain": [
       "array(['Married', 'Single'], dtype=object)"
      ]
     },
     "execution_count": 263,
     "metadata": {},
     "output_type": "execute_result"
    }
   ],
   "source": [
    "employees['Relationship_Status'].unique()"
   ]
  },
  {
   "cell_type": "markdown",
   "metadata": {},
   "source": [
    "#### Observations\n",
    "* Travel_Rate should range from 1-3 but there seems to be 0 in the data\n",
    "* There are null values in the data"
   ]
  },
  {
   "cell_type": "markdown",
   "metadata": {},
   "source": [
    "### Exploratory Data Analysis"
   ]
  },
  {
   "cell_type": "markdown",
   "metadata": {},
   "source": [
    "#### Data Cleaning and preliminary EDA"
   ]
  },
  {
   "cell_type": "code",
   "execution_count": 264,
   "metadata": {},
   "outputs": [
    {
     "data": {
      "text/plain": [
       "Employee_ID                    0\n",
       "Gender                         0\n",
       "Age                          412\n",
       "Education_Level                0\n",
       "Relationship_Status            0\n",
       "Hometown                       0\n",
       "Unit                           0\n",
       "Decision_skill_possess         0\n",
       "Time_of_service              144\n",
       "Time_since_promotion           0\n",
       "growth_rate                    0\n",
       "Travel_Rate                    0\n",
       "Post_Level                     0\n",
       "Pay_Scale                      9\n",
       "Compensation_and_Benefits      0\n",
       "Work_Life_balance             11\n",
       "VAR1                           0\n",
       "VAR2                         577\n",
       "VAR3                           0\n",
       "VAR4                         656\n",
       "VAR5                           0\n",
       "VAR6                           0\n",
       "VAR7                           0\n",
       "Attrition_rate                 0\n",
       "dtype: int64"
      ]
     },
     "execution_count": 264,
     "metadata": {},
     "output_type": "execute_result"
    }
   ],
   "source": [
    "# Check for null values\n",
    "pd.isnull(employees).sum()"
   ]
  },
  {
   "cell_type": "markdown",
   "metadata": {},
   "source": [
    "#### Columns with null values\n",
    "* Age\n",
    "* Time of service\n",
    "* Var2\n",
    "* Var4"
   ]
  },
  {
   "cell_type": "code",
   "execution_count": 265,
   "metadata": {},
   "outputs": [],
   "source": [
    "# Drop irrelevant columns i.e. Employee_ID. Doesn help us in the analysis\n",
    "employees.drop(\"Employee_ID\", axis=1, inplace=True)"
   ]
  },
  {
   "cell_type": "code",
   "execution_count": 266,
   "metadata": {},
   "outputs": [
    {
     "data": {
      "text/html": [
       "<div>\n",
       "<style scoped>\n",
       "    .dataframe tbody tr th:only-of-type {\n",
       "        vertical-align: middle;\n",
       "    }\n",
       "\n",
       "    .dataframe tbody tr th {\n",
       "        vertical-align: top;\n",
       "    }\n",
       "\n",
       "    .dataframe thead th {\n",
       "        text-align: right;\n",
       "    }\n",
       "</style>\n",
       "<table border=\"1\" class=\"dataframe\">\n",
       "  <thead>\n",
       "    <tr style=\"text-align: right;\">\n",
       "      <th></th>\n",
       "      <th>Gender</th>\n",
       "      <th>Age</th>\n",
       "      <th>Education_Level</th>\n",
       "      <th>Relationship_Status</th>\n",
       "      <th>Hometown</th>\n",
       "      <th>Unit</th>\n",
       "      <th>Decision_skill_possess</th>\n",
       "      <th>Time_of_service</th>\n",
       "      <th>Time_since_promotion</th>\n",
       "      <th>growth_rate</th>\n",
       "      <th>Travel_Rate</th>\n",
       "      <th>Post_Level</th>\n",
       "      <th>Pay_Scale</th>\n",
       "      <th>Compensation_and_Benefits</th>\n",
       "      <th>Work_Life_balance</th>\n",
       "      <th>VAR1</th>\n",
       "      <th>VAR2</th>\n",
       "      <th>VAR3</th>\n",
       "      <th>VAR4</th>\n",
       "      <th>VAR5</th>\n",
       "      <th>VAR6</th>\n",
       "      <th>VAR7</th>\n",
       "      <th>Attrition_rate</th>\n",
       "    </tr>\n",
       "  </thead>\n",
       "  <tbody>\n",
       "    <tr>\n",
       "      <th>0</th>\n",
       "      <td>F</td>\n",
       "      <td>42.0</td>\n",
       "      <td>4</td>\n",
       "      <td>Married</td>\n",
       "      <td>Franklin</td>\n",
       "      <td>IT</td>\n",
       "      <td>Conceptual</td>\n",
       "      <td>4.0</td>\n",
       "      <td>4</td>\n",
       "      <td>33</td>\n",
       "      <td>1</td>\n",
       "      <td>1</td>\n",
       "      <td>7.0</td>\n",
       "      <td>type2</td>\n",
       "      <td>3.0</td>\n",
       "      <td>4</td>\n",
       "      <td>0.7516</td>\n",
       "      <td>1.8688</td>\n",
       "      <td>2.0</td>\n",
       "      <td>4</td>\n",
       "      <td>5</td>\n",
       "      <td>3</td>\n",
       "      <td>0.1841</td>\n",
       "    </tr>\n",
       "  </tbody>\n",
       "</table>\n",
       "</div>"
      ],
      "text/plain": [
       "  Gender   Age  Education_Level Relationship_Status  Hometown Unit  \\\n",
       "0      F  42.0                4             Married  Franklin   IT   \n",
       "\n",
       "  Decision_skill_possess  Time_of_service  Time_since_promotion  growth_rate  \\\n",
       "0             Conceptual              4.0                     4           33   \n",
       "\n",
       "   Travel_Rate  Post_Level  Pay_Scale Compensation_and_Benefits  \\\n",
       "0            1           1        7.0                     type2   \n",
       "\n",
       "   Work_Life_balance  VAR1    VAR2    VAR3  VAR4  VAR5  VAR6  VAR7  \\\n",
       "0                3.0     4  0.7516  1.8688   2.0     4     5     3   \n",
       "\n",
       "   Attrition_rate  \n",
       "0          0.1841  "
      ]
     },
     "execution_count": 266,
     "metadata": {},
     "output_type": "execute_result"
    }
   ],
   "source": [
    "employees.head(1)"
   ]
  },
  {
   "cell_type": "code",
   "execution_count": 267,
   "metadata": {},
   "outputs": [
    {
     "data": {
      "text/plain": [
       "Gender                        object\n",
       "Age                          float64\n",
       "Education_Level                int64\n",
       "Relationship_Status           object\n",
       "Hometown                      object\n",
       "Unit                          object\n",
       "Decision_skill_possess        object\n",
       "Time_of_service              float64\n",
       "Time_since_promotion           int64\n",
       "growth_rate                    int64\n",
       "Travel_Rate                    int64\n",
       "Post_Level                     int64\n",
       "Pay_Scale                    float64\n",
       "Compensation_and_Benefits     object\n",
       "Work_Life_balance            float64\n",
       "VAR1                           int64\n",
       "VAR2                         float64\n",
       "VAR3                         float64\n",
       "VAR4                         float64\n",
       "VAR5                           int64\n",
       "VAR6                           int64\n",
       "VAR7                           int64\n",
       "Attrition_rate               float64\n",
       "dtype: object"
      ]
     },
     "execution_count": 267,
     "metadata": {},
     "output_type": "execute_result"
    }
   ],
   "source": [
    "# Check on the data types in each column\n",
    "employees.dtypes"
   ]
  },
  {
   "cell_type": "code",
   "execution_count": 268,
   "metadata": {},
   "outputs": [
    {
     "data": {
      "text/html": [
       "<div>\n",
       "<style scoped>\n",
       "    .dataframe tbody tr th:only-of-type {\n",
       "        vertical-align: middle;\n",
       "    }\n",
       "\n",
       "    .dataframe tbody tr th {\n",
       "        vertical-align: top;\n",
       "    }\n",
       "\n",
       "    .dataframe thead th {\n",
       "        text-align: right;\n",
       "    }\n",
       "</style>\n",
       "<table border=\"1\" class=\"dataframe\">\n",
       "  <thead>\n",
       "    <tr style=\"text-align: right;\">\n",
       "      <th></th>\n",
       "      <th>Gender</th>\n",
       "      <th>Age</th>\n",
       "      <th>Education_Level</th>\n",
       "      <th>Relationship_Status</th>\n",
       "      <th>Hometown</th>\n",
       "      <th>Unit</th>\n",
       "      <th>Decision_skill_possess</th>\n",
       "      <th>Time_of_service</th>\n",
       "      <th>Time_since_promotion</th>\n",
       "      <th>growth_rate</th>\n",
       "      <th>Travel_Rate</th>\n",
       "      <th>Post_Level</th>\n",
       "      <th>Pay_Scale</th>\n",
       "      <th>Compensation_and_Benefits</th>\n",
       "      <th>Work_Life_balance</th>\n",
       "      <th>VAR1</th>\n",
       "      <th>VAR2</th>\n",
       "      <th>VAR3</th>\n",
       "      <th>VAR4</th>\n",
       "      <th>VAR5</th>\n",
       "      <th>VAR6</th>\n",
       "      <th>VAR7</th>\n",
       "      <th>Attrition_rate</th>\n",
       "    </tr>\n",
       "  </thead>\n",
       "  <tbody>\n",
       "  </tbody>\n",
       "</table>\n",
       "</div>"
      ],
      "text/plain": [
       "Empty DataFrame\n",
       "Columns: [Gender, Age, Education_Level, Relationship_Status, Hometown, Unit, Decision_skill_possess, Time_of_service, Time_since_promotion, growth_rate, Travel_Rate, Post_Level, Pay_Scale, Compensation_and_Benefits, Work_Life_balance, VAR1, VAR2, VAR3, VAR4, VAR5, VAR6, VAR7, Attrition_rate]\n",
       "Index: []"
      ]
     },
     "execution_count": 268,
     "metadata": {},
     "output_type": "execute_result"
    }
   ],
   "source": [
    "# Check for duplicated entries/ observations in the data\n",
    "employees[employees.duplicated(keep='first')]"
   ]
  },
  {
   "cell_type": "code",
   "execution_count": 269,
   "metadata": {
    "scrolled": true
   },
   "outputs": [
    {
     "data": {
      "text/html": [
       "<div>\n",
       "<style scoped>\n",
       "    .dataframe tbody tr th:only-of-type {\n",
       "        vertical-align: middle;\n",
       "    }\n",
       "\n",
       "    .dataframe tbody tr th {\n",
       "        vertical-align: top;\n",
       "    }\n",
       "\n",
       "    .dataframe thead th {\n",
       "        text-align: right;\n",
       "    }\n",
       "</style>\n",
       "<table border=\"1\" class=\"dataframe\">\n",
       "  <thead>\n",
       "    <tr style=\"text-align: right;\">\n",
       "      <th></th>\n",
       "      <th>Age</th>\n",
       "      <th>Education_Level</th>\n",
       "      <th>Time_of_service</th>\n",
       "      <th>Time_since_promotion</th>\n",
       "      <th>growth_rate</th>\n",
       "      <th>Travel_Rate</th>\n",
       "      <th>Post_Level</th>\n",
       "      <th>Pay_Scale</th>\n",
       "      <th>Work_Life_balance</th>\n",
       "      <th>VAR1</th>\n",
       "      <th>VAR2</th>\n",
       "      <th>VAR3</th>\n",
       "      <th>VAR4</th>\n",
       "      <th>VAR5</th>\n",
       "      <th>VAR6</th>\n",
       "      <th>VAR7</th>\n",
       "      <th>Attrition_rate</th>\n",
       "    </tr>\n",
       "  </thead>\n",
       "  <tbody>\n",
       "    <tr>\n",
       "      <th>count</th>\n",
       "      <td>6588.000000</td>\n",
       "      <td>7000.000000</td>\n",
       "      <td>6856.000000</td>\n",
       "      <td>7000.000000</td>\n",
       "      <td>7000.000000</td>\n",
       "      <td>7000.000000</td>\n",
       "      <td>7000.000000</td>\n",
       "      <td>6991.000000</td>\n",
       "      <td>6989.000000</td>\n",
       "      <td>7000.000000</td>\n",
       "      <td>6423.000000</td>\n",
       "      <td>7000.000000</td>\n",
       "      <td>6344.000000</td>\n",
       "      <td>7000.000000</td>\n",
       "      <td>7000.000000</td>\n",
       "      <td>7000.000000</td>\n",
       "      <td>7000.000000</td>\n",
       "    </tr>\n",
       "    <tr>\n",
       "      <th>mean</th>\n",
       "      <td>39.622799</td>\n",
       "      <td>3.187857</td>\n",
       "      <td>13.385064</td>\n",
       "      <td>2.367143</td>\n",
       "      <td>47.064286</td>\n",
       "      <td>0.817857</td>\n",
       "      <td>2.798000</td>\n",
       "      <td>6.006294</td>\n",
       "      <td>2.387895</td>\n",
       "      <td>3.098571</td>\n",
       "      <td>-0.008126</td>\n",
       "      <td>-0.013606</td>\n",
       "      <td>1.891078</td>\n",
       "      <td>2.834143</td>\n",
       "      <td>7.101286</td>\n",
       "      <td>3.257000</td>\n",
       "      <td>0.189376</td>\n",
       "    </tr>\n",
       "    <tr>\n",
       "      <th>std</th>\n",
       "      <td>13.606920</td>\n",
       "      <td>1.065102</td>\n",
       "      <td>10.364188</td>\n",
       "      <td>1.149395</td>\n",
       "      <td>15.761406</td>\n",
       "      <td>0.648205</td>\n",
       "      <td>1.163721</td>\n",
       "      <td>2.058435</td>\n",
       "      <td>1.122786</td>\n",
       "      <td>0.836377</td>\n",
       "      <td>0.989850</td>\n",
       "      <td>0.986933</td>\n",
       "      <td>0.529403</td>\n",
       "      <td>0.938945</td>\n",
       "      <td>1.164262</td>\n",
       "      <td>0.925319</td>\n",
       "      <td>0.185753</td>\n",
       "    </tr>\n",
       "    <tr>\n",
       "      <th>min</th>\n",
       "      <td>19.000000</td>\n",
       "      <td>1.000000</td>\n",
       "      <td>0.000000</td>\n",
       "      <td>0.000000</td>\n",
       "      <td>20.000000</td>\n",
       "      <td>0.000000</td>\n",
       "      <td>1.000000</td>\n",
       "      <td>1.000000</td>\n",
       "      <td>1.000000</td>\n",
       "      <td>1.000000</td>\n",
       "      <td>-1.817600</td>\n",
       "      <td>-2.776200</td>\n",
       "      <td>1.000000</td>\n",
       "      <td>1.000000</td>\n",
       "      <td>5.000000</td>\n",
       "      <td>1.000000</td>\n",
       "      <td>0.000000</td>\n",
       "    </tr>\n",
       "    <tr>\n",
       "      <th>25%</th>\n",
       "      <td>27.000000</td>\n",
       "      <td>3.000000</td>\n",
       "      <td>5.000000</td>\n",
       "      <td>1.000000</td>\n",
       "      <td>33.000000</td>\n",
       "      <td>0.000000</td>\n",
       "      <td>2.000000</td>\n",
       "      <td>5.000000</td>\n",
       "      <td>1.000000</td>\n",
       "      <td>3.000000</td>\n",
       "      <td>-0.961200</td>\n",
       "      <td>-0.453700</td>\n",
       "      <td>2.000000</td>\n",
       "      <td>2.000000</td>\n",
       "      <td>6.000000</td>\n",
       "      <td>3.000000</td>\n",
       "      <td>0.070400</td>\n",
       "    </tr>\n",
       "    <tr>\n",
       "      <th>50%</th>\n",
       "      <td>37.000000</td>\n",
       "      <td>3.000000</td>\n",
       "      <td>10.000000</td>\n",
       "      <td>2.000000</td>\n",
       "      <td>47.000000</td>\n",
       "      <td>1.000000</td>\n",
       "      <td>3.000000</td>\n",
       "      <td>6.000000</td>\n",
       "      <td>2.000000</td>\n",
       "      <td>3.000000</td>\n",
       "      <td>-0.104800</td>\n",
       "      <td>-0.453700</td>\n",
       "      <td>2.000000</td>\n",
       "      <td>3.000000</td>\n",
       "      <td>7.000000</td>\n",
       "      <td>3.000000</td>\n",
       "      <td>0.142650</td>\n",
       "    </tr>\n",
       "    <tr>\n",
       "      <th>75%</th>\n",
       "      <td>52.000000</td>\n",
       "      <td>4.000000</td>\n",
       "      <td>21.000000</td>\n",
       "      <td>3.000000</td>\n",
       "      <td>61.000000</td>\n",
       "      <td>1.000000</td>\n",
       "      <td>3.000000</td>\n",
       "      <td>8.000000</td>\n",
       "      <td>3.000000</td>\n",
       "      <td>3.000000</td>\n",
       "      <td>0.751600</td>\n",
       "      <td>0.707500</td>\n",
       "      <td>2.000000</td>\n",
       "      <td>3.000000</td>\n",
       "      <td>8.000000</td>\n",
       "      <td>4.000000</td>\n",
       "      <td>0.235000</td>\n",
       "    </tr>\n",
       "    <tr>\n",
       "      <th>max</th>\n",
       "      <td>65.000000</td>\n",
       "      <td>5.000000</td>\n",
       "      <td>43.000000</td>\n",
       "      <td>4.000000</td>\n",
       "      <td>74.000000</td>\n",
       "      <td>2.000000</td>\n",
       "      <td>5.000000</td>\n",
       "      <td>10.000000</td>\n",
       "      <td>5.000000</td>\n",
       "      <td>5.000000</td>\n",
       "      <td>1.608100</td>\n",
       "      <td>1.868800</td>\n",
       "      <td>3.000000</td>\n",
       "      <td>5.000000</td>\n",
       "      <td>9.000000</td>\n",
       "      <td>5.000000</td>\n",
       "      <td>0.995900</td>\n",
       "    </tr>\n",
       "  </tbody>\n",
       "</table>\n",
       "</div>"
      ],
      "text/plain": [
       "               Age  Education_Level  Time_of_service  Time_since_promotion  \\\n",
       "count  6588.000000      7000.000000      6856.000000           7000.000000   \n",
       "mean     39.622799         3.187857        13.385064              2.367143   \n",
       "std      13.606920         1.065102        10.364188              1.149395   \n",
       "min      19.000000         1.000000         0.000000              0.000000   \n",
       "25%      27.000000         3.000000         5.000000              1.000000   \n",
       "50%      37.000000         3.000000        10.000000              2.000000   \n",
       "75%      52.000000         4.000000        21.000000              3.000000   \n",
       "max      65.000000         5.000000        43.000000              4.000000   \n",
       "\n",
       "       growth_rate  Travel_Rate   Post_Level    Pay_Scale  Work_Life_balance  \\\n",
       "count  7000.000000  7000.000000  7000.000000  6991.000000        6989.000000   \n",
       "mean     47.064286     0.817857     2.798000     6.006294           2.387895   \n",
       "std      15.761406     0.648205     1.163721     2.058435           1.122786   \n",
       "min      20.000000     0.000000     1.000000     1.000000           1.000000   \n",
       "25%      33.000000     0.000000     2.000000     5.000000           1.000000   \n",
       "50%      47.000000     1.000000     3.000000     6.000000           2.000000   \n",
       "75%      61.000000     1.000000     3.000000     8.000000           3.000000   \n",
       "max      74.000000     2.000000     5.000000    10.000000           5.000000   \n",
       "\n",
       "              VAR1         VAR2         VAR3         VAR4         VAR5  \\\n",
       "count  7000.000000  6423.000000  7000.000000  6344.000000  7000.000000   \n",
       "mean      3.098571    -0.008126    -0.013606     1.891078     2.834143   \n",
       "std       0.836377     0.989850     0.986933     0.529403     0.938945   \n",
       "min       1.000000    -1.817600    -2.776200     1.000000     1.000000   \n",
       "25%       3.000000    -0.961200    -0.453700     2.000000     2.000000   \n",
       "50%       3.000000    -0.104800    -0.453700     2.000000     3.000000   \n",
       "75%       3.000000     0.751600     0.707500     2.000000     3.000000   \n",
       "max       5.000000     1.608100     1.868800     3.000000     5.000000   \n",
       "\n",
       "              VAR6         VAR7  Attrition_rate  \n",
       "count  7000.000000  7000.000000     7000.000000  \n",
       "mean      7.101286     3.257000        0.189376  \n",
       "std       1.164262     0.925319        0.185753  \n",
       "min       5.000000     1.000000        0.000000  \n",
       "25%       6.000000     3.000000        0.070400  \n",
       "50%       7.000000     3.000000        0.142650  \n",
       "75%       8.000000     4.000000        0.235000  \n",
       "max       9.000000     5.000000        0.995900  "
      ]
     },
     "execution_count": 269,
     "metadata": {},
     "output_type": "execute_result"
    }
   ],
   "source": [
    "# Get some statistical summary on the data\n",
    "employees.describe()"
   ]
  },
  {
   "cell_type": "markdown",
   "metadata": {},
   "source": [
    "#### Observations:\n",
    "* There seems to be a good number of categorical variables in the data in numerical format\n",
    "\n",
    "\n",
    "* **Continuous variables:** Time_of_service, Time_since_promotion, growth_rate, VAR2, VAR3, \n",
    "\n",
    "\n",
    "* **Categorical variables:** Age, Education_Level, Travel_Rate, Post_Level, Pay_Scale, Work_Life_Balance, VAR1, VAR4, VAR5, VAR6, VAR7\n"
   ]
  },
  {
   "cell_type": "code",
   "execution_count": 270,
   "metadata": {},
   "outputs": [
    {
     "data": {
      "text/plain": [
       "Gender                         0\n",
       "Age                          412\n",
       "Education_Level                0\n",
       "Relationship_Status            0\n",
       "Hometown                       0\n",
       "Unit                           0\n",
       "Decision_skill_possess         0\n",
       "Time_of_service              144\n",
       "Time_since_promotion           0\n",
       "growth_rate                    0\n",
       "Travel_Rate                    0\n",
       "Post_Level                     0\n",
       "Pay_Scale                      9\n",
       "Compensation_and_Benefits      0\n",
       "Work_Life_balance             11\n",
       "VAR1                           0\n",
       "VAR2                         577\n",
       "VAR3                           0\n",
       "VAR4                         656\n",
       "VAR5                           0\n",
       "VAR6                           0\n",
       "VAR7                           0\n",
       "Attrition_rate                 0\n",
       "dtype: int64"
      ]
     },
     "execution_count": 270,
     "metadata": {},
     "output_type": "execute_result"
    }
   ],
   "source": [
    "pd.isnull(employees).sum()"
   ]
  },
  {
   "cell_type": "markdown",
   "metadata": {},
   "source": [
    "#### Create imputers for the null values and combine them with the column transformer"
   ]
  },
  {
   "cell_type": "code",
   "execution_count": 271,
   "metadata": {},
   "outputs": [],
   "source": [
    "# Impute the null values\n",
    "from sklearn.impute import SimpleImputer\n",
    "from sklearn.compose import ColumnTransformer\n",
    "from sklearn.compose import make_column_transformer\n",
    "\n",
    "\n",
    "continuous_imputer= SimpleImputer(strategy='median')\n",
    "categorical_imputer = SimpleImputer(strategy='most_frequent')\n",
    "\n",
    "continuous_cols = [\"Age\", \"Time_of_service\", \"VAR2\"]\n",
    "categorical_cols = [\"Pay_Scale\", \"Work_Life_balance\", \"VAR4\"]\n",
    "\n",
    "employees[continuous_cols] = continuous_imputer.fit_transform(employees[continuous_cols])\n",
    "employees[categorical_cols] = categorical_imputer.fit_transform(employees[categorical_cols])\n",
    "\n",
    "# impute_transformer = ColumnTransformer([(\"continuous_imputer\", continuous_imputer, continuous_cols),\n",
    "#                                         (\"categorical_imputer\", categorical_imputer, categorical_cols)], remainder='passthrough', verbose=True)"
   ]
  },
  {
   "cell_type": "code",
   "execution_count": 272,
   "metadata": {},
   "outputs": [],
   "source": [
    "ColumnTransformer?"
   ]
  },
  {
   "cell_type": "code",
   "execution_count": 273,
   "metadata": {},
   "outputs": [
    {
     "data": {
      "text/plain": [
       "['Pay_Scale', 'Work_Life_balance', 'VAR4']"
      ]
     },
     "execution_count": 273,
     "metadata": {},
     "output_type": "execute_result"
    }
   ],
   "source": [
    "categorical_cols"
   ]
  },
  {
   "cell_type": "markdown",
   "metadata": {},
   "source": [
    "#### Exploratory Data Analysis"
   ]
  },
  {
   "cell_type": "code",
   "execution_count": 274,
   "metadata": {},
   "outputs": [
    {
     "name": "stderr",
     "output_type": "stream",
     "text": [
      "C:\\Users\\Kelvin Kinda\\Anaconda3\\lib\\site-packages\\IPython\\core\\interactiveshell.py:2910: UserWarning: To output multiple subplots, the figure containing the passed axes is being cleared\n",
      "  exec(code_obj, self.user_global_ns, self.user_ns)\n"
     ]
    },
    {
     "data": {
      "text/plain": [
       "array([[<matplotlib.axes._subplots.AxesSubplot object at 0x000002066D2B8320>,\n",
       "        <matplotlib.axes._subplots.AxesSubplot object at 0x0000020606EE9978>,\n",
       "        <matplotlib.axes._subplots.AxesSubplot object at 0x000002060E0451D0>,\n",
       "        <matplotlib.axes._subplots.AxesSubplot object at 0x000002060E06C4E0>],\n",
       "       [<matplotlib.axes._subplots.AxesSubplot object at 0x000002060E08AE10>,\n",
       "        <matplotlib.axes._subplots.AxesSubplot object at 0x000002060E08AE48>,\n",
       "        <matplotlib.axes._subplots.AxesSubplot object at 0x000002060E8A1240>,\n",
       "        <matplotlib.axes._subplots.AxesSubplot object at 0x000002060E8D8240>],\n",
       "       [<matplotlib.axes._subplots.AxesSubplot object at 0x000002060E8AF630>,\n",
       "        <matplotlib.axes._subplots.AxesSubplot object at 0x000002060E942128>,\n",
       "        <matplotlib.axes._subplots.AxesSubplot object at 0x000002060E97A208>,\n",
       "        <matplotlib.axes._subplots.AxesSubplot object at 0x000002060E9B04E0>],\n",
       "       [<matplotlib.axes._subplots.AxesSubplot object at 0x000002060E9E7710>,\n",
       "        <matplotlib.axes._subplots.AxesSubplot object at 0x000002060EA0EB00>,\n",
       "        <matplotlib.axes._subplots.AxesSubplot object at 0x000002060EA47B70>,\n",
       "        <matplotlib.axes._subplots.AxesSubplot object at 0x000002060EA80C50>],\n",
       "       [<matplotlib.axes._subplots.AxesSubplot object at 0x000002060EAB7D30>,\n",
       "        <matplotlib.axes._subplots.AxesSubplot object at 0x000002060EAD66A0>,\n",
       "        <matplotlib.axes._subplots.AxesSubplot object at 0x000002060EB22A20>,\n",
       "        <matplotlib.axes._subplots.AxesSubplot object at 0x000002060EB58A90>]],\n",
       "      dtype=object)"
      ]
     },
     "execution_count": 274,
     "metadata": {},
     "output_type": "execute_result"
    },
    {
     "data": {
      "image/png": "[encoded data removed]",
      "text/plain": [
       "<matplotlib.figure.Figure at 0x2066cf9cac8>"
      ]
     },
     "metadata": {},
     "output_type": "display_data"
    }
   ],
   "source": [
    "# Check the distribution of the data\n",
    "fig, ax = plt.subplots(figsize=(18,14))\n",
    "employees.hist(ax=ax)"
   ]
  },
  {
   "cell_type": "code",
   "execution_count": 275,
   "metadata": {},
   "outputs": [
    {
     "data": {
      "text/plain": [
       "<matplotlib.axes._subplots.AxesSubplot at 0x2060ebd2d68>"
      ]
     },
     "execution_count": 275,
     "metadata": {},
     "output_type": "execute_result"
    },
    {
     "data": {
      "image/png": "[encoded data removed]",
      "text/plain": [
       "<matplotlib.figure.Figure at 0x2060e894ac8>"
      ]
     },
     "metadata": {},
     "output_type": "display_data"
    }
   ],
   "source": [
    "# Check for outliers in Time_of_service and Pay_Scale\n",
    "sns.boxplot(y='Time_of_service', data=employees)"
   ]
  },
  {
   "cell_type": "code",
   "execution_count": 276,
   "metadata": {},
   "outputs": [
    {
     "data": {
      "text/plain": [
       "<matplotlib.axes._subplots.AxesSubplot at 0x2066cfaef28>"
      ]
     },
     "execution_count": 276,
     "metadata": {},
     "output_type": "execute_result"
    },
    {
     "data": {
      "image/png": "[encoded data removed]",
      "text/plain": [
       "<matplotlib.figure.Figure at 0x2060e8ca978>"
      ]
     },
     "metadata": {},
     "output_type": "display_data"
    }
   ],
   "source": [
    "sns.boxplot(y='Pay_Scale', data=employees)"
   ]
  },
  {
   "cell_type": "markdown",
   "metadata": {},
   "source": [
    "#### Observations:\n",
    "* Both features have no outliers"
   ]
  },
  {
   "cell_type": "markdown",
   "metadata": {},
   "source": [
    "#### Check for a relationship between the features and the target (Attrition_Rate)"
   ]
  },
  {
   "cell_type": "code",
   "execution_count": 277,
   "metadata": {},
   "outputs": [
    {
     "data": {
      "application/vnd.jupyter.widget-view+json": {
       "model_id": "1691b12ecea24dd782b4cce70f5e807a",
       "version_major": 2,
       "version_minor": 0
      },
      "text/html": [
       "<p>Failed to display Jupyter Widget of type <code>interactive</code>.</p>\n",
       "<p>\n",
       "  If you're reading this message in the Jupyter Notebook or JupyterLab Notebook, it may mean\n",
       "  that the widgets JavaScript is still loading. If this message persists, it\n",
       "  likely means that the widgets JavaScript library is either not installed or\n",
       "  not enabled. See the <a href=\"https://ipywidgets.readthedocs.io/en/stable/user_install.html\">Jupyter\n",
       "  Widgets Documentation</a> for setup instructions.\n",
       "</p>\n",
       "<p>\n",
       "  If you're reading this message in another frontend (for example, a static\n",
       "  rendering on GitHub or <a href=\"https://nbviewer.jupyter.org/\">NBViewer</a>),\n",
       "  it may mean that your frontend doesn't currently support widgets.\n",
       "</p>\n"
      ],
      "text/plain": [
       "interactive(children=(Dropdown(description='feature', options={'Age': 'Age', 'Time_of_service': 'Time_of_service', 'VAR2': 'VAR2'}, value='Age'), Output()), _dom_classes=('widget-interact',))"
      ]
     },
     "metadata": {},
     "output_type": "display_data"
    },
    {
     "data": {
      "text/plain": [
       "<function __main__.plot_feature>"
      ]
     },
     "execution_count": 277,
     "metadata": {},
     "output_type": "execute_result"
    }
   ],
   "source": [
    "from ipywidgets import widgets\n",
    "\n",
    "def plot_feature(feature):\n",
    "    employees.plot(kind=\"scatter\", x=feature, y='Attrition_rate', alpha=0.4)\n",
    "\n",
    "cols  = {col : col for col in employees[continuous_cols].columns}\n",
    "\n",
    "widgets.interact(plot_feature, feature=cols)"
   ]
  },
  {
   "cell_type": "markdown",
   "metadata": {},
   "source": [
    "#### Observations:\n",
    "* The doesn't seem to be any direct relationship between the continuous features and the target"
   ]
  },
  {
   "cell_type": "markdown",
   "metadata": {},
   "source": [
    "#### Continue with data processing and checking the relationships of the data. feature to target and featire to feature. Ensure you have a good understanding of what data type each column falls into for better analysis and processing"
   ]
  },
  {
   "cell_type": "code",
   "execution_count": 278,
   "metadata": {},
   "outputs": [
    {
     "data": {
      "text/plain": [
       "Attrition_rate          1.000000\n",
       "Work_Life_balance       0.020975\n",
       "Post_Level              0.016402\n",
       "growth_rate             0.014247\n",
       "Time_since_promotion    0.013880\n",
       "VAR3                    0.001245\n",
       "VAR6                   -0.003130\n",
       "VAR5                   -0.004770\n",
       "VAR1                   -0.008073\n",
       "Education_Level        -0.008143\n",
       "Travel_Rate            -0.012608\n",
       "VAR4                   -0.013364\n",
       "Age                    -0.014760\n",
       "Pay_Scale              -0.015043\n",
       "VAR7                   -0.015299\n",
       "Time_of_service        -0.017203\n",
       "VAR2                   -0.022751\n",
       "Name: Attrition_rate, dtype: float64"
      ]
     },
     "execution_count": 278,
     "metadata": {},
     "output_type": "execute_result"
    }
   ],
   "source": [
    "employees.corr()['Attrition_rate'].sort_values(ascending=False)"
   ]
  },
  {
   "cell_type": "markdown",
   "metadata": {},
   "source": [
    "#### Observation:\n",
    "* There's minimal linear correlation between the between the features and the target"
   ]
  },
  {
   "cell_type": "markdown",
   "metadata": {},
   "source": [
    "#### Check how features correlate to each other"
   ]
  },
  {
   "cell_type": "code",
   "execution_count": 279,
   "metadata": {},
   "outputs": [
    {
     "data": {
      "text/html": [
       "<div>\n",
       "<style scoped>\n",
       "    .dataframe tbody tr th:only-of-type {\n",
       "        vertical-align: middle;\n",
       "    }\n",
       "\n",
       "    .dataframe tbody tr th {\n",
       "        vertical-align: top;\n",
       "    }\n",
       "\n",
       "    .dataframe thead th {\n",
       "        text-align: right;\n",
       "    }\n",
       "</style>\n",
       "<table border=\"1\" class=\"dataframe\">\n",
       "  <thead>\n",
       "    <tr style=\"text-align: right;\">\n",
       "      <th></th>\n",
       "      <th>Age</th>\n",
       "      <th>Education_Level</th>\n",
       "      <th>Time_of_service</th>\n",
       "      <th>Time_since_promotion</th>\n",
       "      <th>growth_rate</th>\n",
       "      <th>Travel_Rate</th>\n",
       "      <th>Post_Level</th>\n",
       "      <th>Pay_Scale</th>\n",
       "      <th>Work_Life_balance</th>\n",
       "      <th>VAR1</th>\n",
       "      <th>VAR2</th>\n",
       "      <th>VAR3</th>\n",
       "      <th>VAR4</th>\n",
       "      <th>VAR5</th>\n",
       "      <th>VAR6</th>\n",
       "      <th>VAR7</th>\n",
       "      <th>Attrition_rate</th>\n",
       "    </tr>\n",
       "  </thead>\n",
       "  <tbody>\n",
       "    <tr>\n",
       "      <th>Age</th>\n",
       "      <td>1.000000</td>\n",
       "      <td>-0.005370</td>\n",
       "      <td>0.880620</td>\n",
       "      <td>0.140875</td>\n",
       "      <td>0.001430</td>\n",
       "      <td>0.011663</td>\n",
       "      <td>0.001360</td>\n",
       "      <td>0.012007</td>\n",
       "      <td>0.003275</td>\n",
       "      <td>0.004871</td>\n",
       "      <td>0.005968</td>\n",
       "      <td>0.007420</td>\n",
       "      <td>0.000357</td>\n",
       "      <td>0.000125</td>\n",
       "      <td>-0.001691</td>\n",
       "      <td>0.008218</td>\n",
       "      <td>-0.014760</td>\n",
       "    </tr>\n",
       "    <tr>\n",
       "      <th>Education_Level</th>\n",
       "      <td>-0.005370</td>\n",
       "      <td>1.000000</td>\n",
       "      <td>-0.012774</td>\n",
       "      <td>-0.002077</td>\n",
       "      <td>0.002991</td>\n",
       "      <td>-0.017690</td>\n",
       "      <td>0.009986</td>\n",
       "      <td>0.006866</td>\n",
       "      <td>-0.014715</td>\n",
       "      <td>-0.002185</td>\n",
       "      <td>-0.010076</td>\n",
       "      <td>-0.009689</td>\n",
       "      <td>0.004731</td>\n",
       "      <td>0.005444</td>\n",
       "      <td>0.009195</td>\n",
       "      <td>0.012909</td>\n",
       "      <td>-0.008143</td>\n",
       "    </tr>\n",
       "    <tr>\n",
       "      <th>Time_of_service</th>\n",
       "      <td>0.880620</td>\n",
       "      <td>-0.012774</td>\n",
       "      <td>1.000000</td>\n",
       "      <td>0.134779</td>\n",
       "      <td>-0.004045</td>\n",
       "      <td>0.003825</td>\n",
       "      <td>-0.001817</td>\n",
       "      <td>0.019844</td>\n",
       "      <td>-0.002894</td>\n",
       "      <td>0.004664</td>\n",
       "      <td>0.003345</td>\n",
       "      <td>0.006551</td>\n",
       "      <td>-0.005595</td>\n",
       "      <td>0.003412</td>\n",
       "      <td>0.007032</td>\n",
       "      <td>0.006354</td>\n",
       "      <td>-0.017203</td>\n",
       "    </tr>\n",
       "    <tr>\n",
       "      <th>Time_since_promotion</th>\n",
       "      <td>0.140875</td>\n",
       "      <td>-0.002077</td>\n",
       "      <td>0.134779</td>\n",
       "      <td>1.000000</td>\n",
       "      <td>0.014147</td>\n",
       "      <td>-0.012061</td>\n",
       "      <td>-0.008851</td>\n",
       "      <td>-0.010011</td>\n",
       "      <td>-0.007557</td>\n",
       "      <td>-0.002873</td>\n",
       "      <td>0.004133</td>\n",
       "      <td>-0.002783</td>\n",
       "      <td>-0.003029</td>\n",
       "      <td>0.000563</td>\n",
       "      <td>0.017264</td>\n",
       "      <td>0.005173</td>\n",
       "      <td>0.013880</td>\n",
       "    </tr>\n",
       "    <tr>\n",
       "      <th>growth_rate</th>\n",
       "      <td>0.001430</td>\n",
       "      <td>0.002991</td>\n",
       "      <td>-0.004045</td>\n",
       "      <td>0.014147</td>\n",
       "      <td>1.000000</td>\n",
       "      <td>0.008460</td>\n",
       "      <td>-0.006887</td>\n",
       "      <td>-0.004681</td>\n",
       "      <td>-0.017525</td>\n",
       "      <td>0.001351</td>\n",
       "      <td>0.010594</td>\n",
       "      <td>0.010991</td>\n",
       "      <td>0.020005</td>\n",
       "      <td>-0.015122</td>\n",
       "      <td>-0.005860</td>\n",
       "      <td>-0.017993</td>\n",
       "      <td>0.014247</td>\n",
       "    </tr>\n",
       "    <tr>\n",
       "      <th>Travel_Rate</th>\n",
       "      <td>0.011663</td>\n",
       "      <td>-0.017690</td>\n",
       "      <td>0.003825</td>\n",
       "      <td>-0.012061</td>\n",
       "      <td>0.008460</td>\n",
       "      <td>1.000000</td>\n",
       "      <td>0.021299</td>\n",
       "      <td>-0.012605</td>\n",
       "      <td>0.004668</td>\n",
       "      <td>0.023898</td>\n",
       "      <td>0.007772</td>\n",
       "      <td>-0.009019</td>\n",
       "      <td>-0.005177</td>\n",
       "      <td>-0.003866</td>\n",
       "      <td>-0.012280</td>\n",
       "      <td>-0.006271</td>\n",
       "      <td>-0.012608</td>\n",
       "    </tr>\n",
       "    <tr>\n",
       "      <th>Post_Level</th>\n",
       "      <td>0.001360</td>\n",
       "      <td>0.009986</td>\n",
       "      <td>-0.001817</td>\n",
       "      <td>-0.008851</td>\n",
       "      <td>-0.006887</td>\n",
       "      <td>0.021299</td>\n",
       "      <td>1.000000</td>\n",
       "      <td>0.022817</td>\n",
       "      <td>-0.014931</td>\n",
       "      <td>-0.008458</td>\n",
       "      <td>-0.006379</td>\n",
       "      <td>0.010387</td>\n",
       "      <td>-0.012055</td>\n",
       "      <td>0.013008</td>\n",
       "      <td>0.002765</td>\n",
       "      <td>-0.003397</td>\n",
       "      <td>0.016402</td>\n",
       "    </tr>\n",
       "    <tr>\n",
       "      <th>Pay_Scale</th>\n",
       "      <td>0.012007</td>\n",
       "      <td>0.006866</td>\n",
       "      <td>0.019844</td>\n",
       "      <td>-0.010011</td>\n",
       "      <td>-0.004681</td>\n",
       "      <td>-0.012605</td>\n",
       "      <td>0.022817</td>\n",
       "      <td>1.000000</td>\n",
       "      <td>-0.023230</td>\n",
       "      <td>0.010531</td>\n",
       "      <td>0.006304</td>\n",
       "      <td>0.003309</td>\n",
       "      <td>-0.010843</td>\n",
       "      <td>0.017690</td>\n",
       "      <td>-0.011821</td>\n",
       "      <td>0.002330</td>\n",
       "      <td>-0.015043</td>\n",
       "    </tr>\n",
       "    <tr>\n",
       "      <th>Work_Life_balance</th>\n",
       "      <td>0.003275</td>\n",
       "      <td>-0.014715</td>\n",
       "      <td>-0.002894</td>\n",
       "      <td>-0.007557</td>\n",
       "      <td>-0.017525</td>\n",
       "      <td>0.004668</td>\n",
       "      <td>-0.014931</td>\n",
       "      <td>-0.023230</td>\n",
       "      <td>1.000000</td>\n",
       "      <td>-0.021770</td>\n",
       "      <td>-0.002601</td>\n",
       "      <td>0.004295</td>\n",
       "      <td>-0.026315</td>\n",
       "      <td>0.021244</td>\n",
       "      <td>0.003882</td>\n",
       "      <td>0.023108</td>\n",
       "      <td>0.020975</td>\n",
       "    </tr>\n",
       "    <tr>\n",
       "      <th>VAR1</th>\n",
       "      <td>0.004871</td>\n",
       "      <td>-0.002185</td>\n",
       "      <td>0.004664</td>\n",
       "      <td>-0.002873</td>\n",
       "      <td>0.001351</td>\n",
       "      <td>0.023898</td>\n",
       "      <td>-0.008458</td>\n",
       "      <td>0.010531</td>\n",
       "      <td>-0.021770</td>\n",
       "      <td>1.000000</td>\n",
       "      <td>0.001934</td>\n",
       "      <td>-0.003318</td>\n",
       "      <td>0.001391</td>\n",
       "      <td>0.007904</td>\n",
       "      <td>-0.002771</td>\n",
       "      <td>0.009355</td>\n",
       "      <td>-0.008073</td>\n",
       "    </tr>\n",
       "    <tr>\n",
       "      <th>VAR2</th>\n",
       "      <td>0.005968</td>\n",
       "      <td>-0.010076</td>\n",
       "      <td>0.003345</td>\n",
       "      <td>0.004133</td>\n",
       "      <td>0.010594</td>\n",
       "      <td>0.007772</td>\n",
       "      <td>-0.006379</td>\n",
       "      <td>0.006304</td>\n",
       "      <td>-0.002601</td>\n",
       "      <td>0.001934</td>\n",
       "      <td>1.000000</td>\n",
       "      <td>0.011873</td>\n",
       "      <td>0.012662</td>\n",
       "      <td>0.001820</td>\n",
       "      <td>0.004384</td>\n",
       "      <td>0.003021</td>\n",
       "      <td>-0.022751</td>\n",
       "    </tr>\n",
       "    <tr>\n",
       "      <th>VAR3</th>\n",
       "      <td>0.007420</td>\n",
       "      <td>-0.009689</td>\n",
       "      <td>0.006551</td>\n",
       "      <td>-0.002783</td>\n",
       "      <td>0.010991</td>\n",
       "      <td>-0.009019</td>\n",
       "      <td>0.010387</td>\n",
       "      <td>0.003309</td>\n",
       "      <td>0.004295</td>\n",
       "      <td>-0.003318</td>\n",
       "      <td>0.011873</td>\n",
       "      <td>1.000000</td>\n",
       "      <td>-0.007694</td>\n",
       "      <td>-0.003399</td>\n",
       "      <td>0.005096</td>\n",
       "      <td>0.008390</td>\n",
       "      <td>0.001245</td>\n",
       "    </tr>\n",
       "    <tr>\n",
       "      <th>VAR4</th>\n",
       "      <td>0.000357</td>\n",
       "      <td>0.004731</td>\n",
       "      <td>-0.005595</td>\n",
       "      <td>-0.003029</td>\n",
       "      <td>0.020005</td>\n",
       "      <td>-0.005177</td>\n",
       "      <td>-0.012055</td>\n",
       "      <td>-0.010843</td>\n",
       "      <td>-0.026315</td>\n",
       "      <td>0.001391</td>\n",
       "      <td>0.012662</td>\n",
       "      <td>-0.007694</td>\n",
       "      <td>1.000000</td>\n",
       "      <td>-0.004703</td>\n",
       "      <td>0.001698</td>\n",
       "      <td>-0.016638</td>\n",
       "      <td>-0.013364</td>\n",
       "    </tr>\n",
       "    <tr>\n",
       "      <th>VAR5</th>\n",
       "      <td>0.000125</td>\n",
       "      <td>0.005444</td>\n",
       "      <td>0.003412</td>\n",
       "      <td>0.000563</td>\n",
       "      <td>-0.015122</td>\n",
       "      <td>-0.003866</td>\n",
       "      <td>0.013008</td>\n",
       "      <td>0.017690</td>\n",
       "      <td>0.021244</td>\n",
       "      <td>0.007904</td>\n",
       "      <td>0.001820</td>\n",
       "      <td>-0.003399</td>\n",
       "      <td>-0.004703</td>\n",
       "      <td>1.000000</td>\n",
       "      <td>-0.005412</td>\n",
       "      <td>0.009436</td>\n",
       "      <td>-0.004770</td>\n",
       "    </tr>\n",
       "    <tr>\n",
       "      <th>VAR6</th>\n",
       "      <td>-0.001691</td>\n",
       "      <td>0.009195</td>\n",
       "      <td>0.007032</td>\n",
       "      <td>0.017264</td>\n",
       "      <td>-0.005860</td>\n",
       "      <td>-0.012280</td>\n",
       "      <td>0.002765</td>\n",
       "      <td>-0.011821</td>\n",
       "      <td>0.003882</td>\n",
       "      <td>-0.002771</td>\n",
       "      <td>0.004384</td>\n",
       "      <td>0.005096</td>\n",
       "      <td>0.001698</td>\n",
       "      <td>-0.005412</td>\n",
       "      <td>1.000000</td>\n",
       "      <td>0.011908</td>\n",
       "      <td>-0.003130</td>\n",
       "    </tr>\n",
       "    <tr>\n",
       "      <th>VAR7</th>\n",
       "      <td>0.008218</td>\n",
       "      <td>0.012909</td>\n",
       "      <td>0.006354</td>\n",
       "      <td>0.005173</td>\n",
       "      <td>-0.017993</td>\n",
       "      <td>-0.006271</td>\n",
       "      <td>-0.003397</td>\n",
       "      <td>0.002330</td>\n",
       "      <td>0.023108</td>\n",
       "      <td>0.009355</td>\n",
       "      <td>0.003021</td>\n",
       "      <td>0.008390</td>\n",
       "      <td>-0.016638</td>\n",
       "      <td>0.009436</td>\n",
       "      <td>0.011908</td>\n",
       "      <td>1.000000</td>\n",
       "      <td>-0.015299</td>\n",
       "    </tr>\n",
       "    <tr>\n",
       "      <th>Attrition_rate</th>\n",
       "      <td>-0.014760</td>\n",
       "      <td>-0.008143</td>\n",
       "      <td>-0.017203</td>\n",
       "      <td>0.013880</td>\n",
       "      <td>0.014247</td>\n",
       "      <td>-0.012608</td>\n",
       "      <td>0.016402</td>\n",
       "      <td>-0.015043</td>\n",
       "      <td>0.020975</td>\n",
       "      <td>-0.008073</td>\n",
       "      <td>-0.022751</td>\n",
       "      <td>0.001245</td>\n",
       "      <td>-0.013364</td>\n",
       "      <td>-0.004770</td>\n",
       "      <td>-0.003130</td>\n",
       "      <td>-0.015299</td>\n",
       "      <td>1.000000</td>\n",
       "    </tr>\n",
       "  </tbody>\n",
       "</table>\n",
       "</div>"
      ],
      "text/plain": [
       "                           Age  Education_Level  Time_of_service  \\\n",
       "Age                   1.000000        -0.005370         0.880620   \n",
       "Education_Level      -0.005370         1.000000        -0.012774   \n",
       "Time_of_service       0.880620        -0.012774         1.000000   \n",
       "Time_since_promotion  0.140875        -0.002077         0.134779   \n",
       "growth_rate           0.001430         0.002991        -0.004045   \n",
       "Travel_Rate           0.011663        -0.017690         0.003825   \n",
       "Post_Level            0.001360         0.009986        -0.001817   \n",
       "Pay_Scale             0.012007         0.006866         0.019844   \n",
       "Work_Life_balance     0.003275        -0.014715        -0.002894   \n",
       "VAR1                  0.004871        -0.002185         0.004664   \n",
       "VAR2                  0.005968        -0.010076         0.003345   \n",
       "VAR3                  0.007420        -0.009689         0.006551   \n",
       "VAR4                  0.000357         0.004731        -0.005595   \n",
       "VAR5                  0.000125         0.005444         0.003412   \n",
       "VAR6                 -0.001691         0.009195         0.007032   \n",
       "VAR7                  0.008218         0.012909         0.006354   \n",
       "Attrition_rate       -0.014760        -0.008143        -0.017203   \n",
       "\n",
       "                      Time_since_promotion  growth_rate  Travel_Rate  \\\n",
       "Age                               0.140875     0.001430     0.011663   \n",
       "Education_Level                  -0.002077     0.002991    -0.017690   \n",
       "Time_of_service                   0.134779    -0.004045     0.003825   \n",
       "Time_since_promotion              1.000000     0.014147    -0.012061   \n",
       "growth_rate                       0.014147     1.000000     0.008460   \n",
       "Travel_Rate                      -0.012061     0.008460     1.000000   \n",
       "Post_Level                       -0.008851    -0.006887     0.021299   \n",
       "Pay_Scale                        -0.010011    -0.004681    -0.012605   \n",
       "Work_Life_balance                -0.007557    -0.017525     0.004668   \n",
       "VAR1                             -0.002873     0.001351     0.023898   \n",
       "VAR2                              0.004133     0.010594     0.007772   \n",
       "VAR3                             -0.002783     0.010991    -0.009019   \n",
       "VAR4                             -0.003029     0.020005    -0.005177   \n",
       "VAR5                              0.000563    -0.015122    -0.003866   \n",
       "VAR6                              0.017264    -0.005860    -0.012280   \n",
       "VAR7                              0.005173    -0.017993    -0.006271   \n",
       "Attrition_rate                    0.013880     0.014247    -0.012608   \n",
       "\n",
       "                      Post_Level  Pay_Scale  Work_Life_balance      VAR1  \\\n",
       "Age                     0.001360   0.012007           0.003275  0.004871   \n",
       "Education_Level         0.009986   0.006866          -0.014715 -0.002185   \n",
       "Time_of_service        -0.001817   0.019844          -0.002894  0.004664   \n",
       "Time_since_promotion   -0.008851  -0.010011          -0.007557 -0.002873   \n",
       "growth_rate            -0.006887  -0.004681          -0.017525  0.001351   \n",
       "Travel_Rate             0.021299  -0.012605           0.004668  0.023898   \n",
       "Post_Level              1.000000   0.022817          -0.014931 -0.008458   \n",
       "Pay_Scale               0.022817   1.000000          -0.023230  0.010531   \n",
       "Work_Life_balance      -0.014931  -0.023230           1.000000 -0.021770   \n",
       "VAR1                   -0.008458   0.010531          -0.021770  1.000000   \n",
       "VAR2                   -0.006379   0.006304          -0.002601  0.001934   \n",
       "VAR3                    0.010387   0.003309           0.004295 -0.003318   \n",
       "VAR4                   -0.012055  -0.010843          -0.026315  0.001391   \n",
       "VAR5                    0.013008   0.017690           0.021244  0.007904   \n",
       "VAR6                    0.002765  -0.011821           0.003882 -0.002771   \n",
       "VAR7                   -0.003397   0.002330           0.023108  0.009355   \n",
       "Attrition_rate          0.016402  -0.015043           0.020975 -0.008073   \n",
       "\n",
       "                          VAR2      VAR3      VAR4      VAR5      VAR6  \\\n",
       "Age                   0.005968  0.007420  0.000357  0.000125 -0.001691   \n",
       "Education_Level      -0.010076 -0.009689  0.004731  0.005444  0.009195   \n",
       "Time_of_service       0.003345  0.006551 -0.005595  0.003412  0.007032   \n",
       "Time_since_promotion  0.004133 -0.002783 -0.003029  0.000563  0.017264   \n",
       "growth_rate           0.010594  0.010991  0.020005 -0.015122 -0.005860   \n",
       "Travel_Rate           0.007772 -0.009019 -0.005177 -0.003866 -0.012280   \n",
       "Post_Level           -0.006379  0.010387 -0.012055  0.013008  0.002765   \n",
       "Pay_Scale             0.006304  0.003309 -0.010843  0.017690 -0.011821   \n",
       "Work_Life_balance    -0.002601  0.004295 -0.026315  0.021244  0.003882   \n",
       "VAR1                  0.001934 -0.003318  0.001391  0.007904 -0.002771   \n",
       "VAR2                  1.000000  0.011873  0.012662  0.001820  0.004384   \n",
       "VAR3                  0.011873  1.000000 -0.007694 -0.003399  0.005096   \n",
       "VAR4                  0.012662 -0.007694  1.000000 -0.004703  0.001698   \n",
       "VAR5                  0.001820 -0.003399 -0.004703  1.000000 -0.005412   \n",
       "VAR6                  0.004384  0.005096  0.001698 -0.005412  1.000000   \n",
       "VAR7                  0.003021  0.008390 -0.016638  0.009436  0.011908   \n",
       "Attrition_rate       -0.022751  0.001245 -0.013364 -0.004770 -0.003130   \n",
       "\n",
       "                          VAR7  Attrition_rate  \n",
       "Age                   0.008218       -0.014760  \n",
       "Education_Level       0.012909       -0.008143  \n",
       "Time_of_service       0.006354       -0.017203  \n",
       "Time_since_promotion  0.005173        0.013880  \n",
       "growth_rate          -0.017993        0.014247  \n",
       "Travel_Rate          -0.006271       -0.012608  \n",
       "Post_Level           -0.003397        0.016402  \n",
       "Pay_Scale             0.002330       -0.015043  \n",
       "Work_Life_balance     0.023108        0.020975  \n",
       "VAR1                  0.009355       -0.008073  \n",
       "VAR2                  0.003021       -0.022751  \n",
       "VAR3                  0.008390        0.001245  \n",
       "VAR4                 -0.016638       -0.013364  \n",
       "VAR5                  0.009436       -0.004770  \n",
       "VAR6                  0.011908       -0.003130  \n",
       "VAR7                  1.000000       -0.015299  \n",
       "Attrition_rate       -0.015299        1.000000  "
      ]
     },
     "execution_count": 279,
     "metadata": {},
     "output_type": "execute_result"
    }
   ],
   "source": [
    "employees.corr()"
   ]
  },
  {
   "cell_type": "markdown",
   "metadata": {},
   "source": [
    "#### Observations:\n",
    "* Age and Time of service have a very high correlation of 0.9. Assumption is that older employees have worked in the company for a longer period. Also implies that most hires are younger people\n",
    "\n",
    "* Growth_rate has a weak +ve correlation with VAR4\n",
    "\n",
    "* Travel rate has a weak +ve correlation with VAR1 Post_level\n",
    "\n",
    "* Post level has a weak +ve correlation with Pay scale\n",
    "\n",
    "* Post level has a weak -ve correlation with Worl life balance\n"
   ]
  },
  {
   "cell_type": "markdown",
   "metadata": {},
   "source": [
    "### Feature Engineering"
   ]
  },
  {
   "cell_type": "markdown",
   "metadata": {},
   "source": [
    "#### Encode categorical variables"
   ]
  },
  {
   "cell_type": "code",
   "execution_count": 280,
   "metadata": {},
   "outputs": [
    {
     "data": {
      "text/html": [
       "<div>\n",
       "<style scoped>\n",
       "    .dataframe tbody tr th:only-of-type {\n",
       "        vertical-align: middle;\n",
       "    }\n",
       "\n",
       "    .dataframe tbody tr th {\n",
       "        vertical-align: top;\n",
       "    }\n",
       "\n",
       "    .dataframe thead th {\n",
       "        text-align: right;\n",
       "    }\n",
       "</style>\n",
       "<table border=\"1\" class=\"dataframe\">\n",
       "  <thead>\n",
       "    <tr style=\"text-align: right;\">\n",
       "      <th></th>\n",
       "      <th>Gender</th>\n",
       "      <th>Age</th>\n",
       "      <th>Education_Level</th>\n",
       "      <th>Relationship_Status</th>\n",
       "      <th>Hometown</th>\n",
       "      <th>Unit</th>\n",
       "      <th>Decision_skill_possess</th>\n",
       "      <th>Time_of_service</th>\n",
       "      <th>Time_since_promotion</th>\n",
       "      <th>growth_rate</th>\n",
       "      <th>Travel_Rate</th>\n",
       "      <th>Post_Level</th>\n",
       "      <th>Pay_Scale</th>\n",
       "      <th>Compensation_and_Benefits</th>\n",
       "      <th>Work_Life_balance</th>\n",
       "      <th>VAR1</th>\n",
       "      <th>VAR2</th>\n",
       "      <th>VAR3</th>\n",
       "      <th>VAR4</th>\n",
       "      <th>VAR5</th>\n",
       "      <th>VAR6</th>\n",
       "      <th>VAR7</th>\n",
       "      <th>Attrition_rate</th>\n",
       "    </tr>\n",
       "  </thead>\n",
       "  <tbody>\n",
       "    <tr>\n",
       "      <th>0</th>\n",
       "      <td>F</td>\n",
       "      <td>42.0</td>\n",
       "      <td>4</td>\n",
       "      <td>Married</td>\n",
       "      <td>Franklin</td>\n",
       "      <td>IT</td>\n",
       "      <td>Conceptual</td>\n",
       "      <td>4.0</td>\n",
       "      <td>4</td>\n",
       "      <td>33</td>\n",
       "      <td>1</td>\n",
       "      <td>1</td>\n",
       "      <td>7.0</td>\n",
       "      <td>type2</td>\n",
       "      <td>3.0</td>\n",
       "      <td>4</td>\n",
       "      <td>0.7516</td>\n",
       "      <td>1.8688</td>\n",
       "      <td>2.0</td>\n",
       "      <td>4</td>\n",
       "      <td>5</td>\n",
       "      <td>3</td>\n",
       "      <td>0.1841</td>\n",
       "    </tr>\n",
       "  </tbody>\n",
       "</table>\n",
       "</div>"
      ],
      "text/plain": [
       "  Gender   Age  Education_Level Relationship_Status  Hometown Unit  \\\n",
       "0      F  42.0                4             Married  Franklin   IT   \n",
       "\n",
       "  Decision_skill_possess  Time_of_service  Time_since_promotion  growth_rate  \\\n",
       "0             Conceptual              4.0                     4           33   \n",
       "\n",
       "   Travel_Rate  Post_Level  Pay_Scale Compensation_and_Benefits  \\\n",
       "0            1           1        7.0                     type2   \n",
       "\n",
       "   Work_Life_balance  VAR1    VAR2    VAR3  VAR4  VAR5  VAR6  VAR7  \\\n",
       "0                3.0     4  0.7516  1.8688   2.0     4     5     3   \n",
       "\n",
       "   Attrition_rate  \n",
       "0          0.1841  "
      ]
     },
     "execution_count": 280,
     "metadata": {},
     "output_type": "execute_result"
    }
   ],
   "source": [
    "employees.head(1)"
   ]
  },
  {
   "cell_type": "code",
   "execution_count": 281,
   "metadata": {
    "scrolled": true
   },
   "outputs": [
    {
     "name": "stderr",
     "output_type": "stream",
     "text": [
      "C:\\Users\\Kelvin Kinda\\Anaconda3\\lib\\site-packages\\ipykernel_launcher.py:8: FutureWarning: reshape is deprecated and will raise in a subsequent release. Please use .values.reshape(...) instead\n",
      "  \n",
      "C:\\Users\\Kelvin Kinda\\Anaconda3\\lib\\site-packages\\ipykernel_launcher.py:8: FutureWarning: reshape is deprecated and will raise in a subsequent release. Please use .values.reshape(...) instead\n",
      "  \n",
      "C:\\Users\\Kelvin Kinda\\Anaconda3\\lib\\site-packages\\ipykernel_launcher.py:8: FutureWarning: reshape is deprecated and will raise in a subsequent release. Please use .values.reshape(...) instead\n",
      "  \n",
      "C:\\Users\\Kelvin Kinda\\Anaconda3\\lib\\site-packages\\ipykernel_launcher.py:8: FutureWarning: reshape is deprecated and will raise in a subsequent release. Please use .values.reshape(...) instead\n",
      "  \n",
      "C:\\Users\\Kelvin Kinda\\Anaconda3\\lib\\site-packages\\ipykernel_launcher.py:8: FutureWarning: reshape is deprecated and will raise in a subsequent release. Please use .values.reshape(...) instead\n",
      "  \n",
      "C:\\Users\\Kelvin Kinda\\Anaconda3\\lib\\site-packages\\ipykernel_launcher.py:8: FutureWarning: reshape is deprecated and will raise in a subsequent release. Please use .values.reshape(...) instead\n",
      "  \n"
     ]
    }
   ],
   "source": [
    "from sklearn.preprocessing import OneHotEncoder\n",
    "\n",
    "cat_cols = [\"Gender\", \"Relationship_Status\", \"Hometown\", \"Unit\", \"Decision_skill_possess\", \"Compensation_and_Benefits\"]\n",
    "\n",
    "onehot_enc = OneHotEncoder(sparse=False, categories='auto')\n",
    "\n",
    "for col in cat_cols:\n",
    "    employees[col] = onehot_enc.fit_transform(employees[col].reshape(-1,1))\n",
    "\n",
    "# encoder_transform = ColumnTransformer([(\"onehot_enc\", onehot_enc, cat_cols)], sparse_threshold=0)"
   ]
  },
  {
   "cell_type": "markdown",
   "metadata": {},
   "source": [
    "#### Create a growth per anum feature"
   ]
  },
  {
   "cell_type": "code",
   "execution_count": 282,
   "metadata": {},
   "outputs": [],
   "source": [
    "# Divide growth rate by time of service to understand how much an employee has grown per year on average \n",
    "# employees[\"Growth_per_ServiceYear\"] = employees[\"growth_rate\"] / employees[\"Time_of_service\"]"
   ]
  },
  {
   "cell_type": "code",
   "execution_count": 283,
   "metadata": {},
   "outputs": [],
   "source": [
    "def new_columns(employees): \n",
    "    employees[\"Growth_per_ServiceYear\"] = employees.apply(lambda x: (x[\"growth_rate\"] / 1) if x['Time_of_service'] == 0 else (x[\"growth_rate\"] / x['Time_of_service']), axis=1)\n",
    "    \n",
    "    return employees\n",
    "\n",
    "employees = new_columns(employees)"
   ]
  },
  {
   "cell_type": "markdown",
   "metadata": {},
   "source": [
    "#### Create interaction features"
   ]
  },
  {
   "cell_type": "code",
   "execution_count": 284,
   "metadata": {},
   "outputs": [],
   "source": [
    "from sklearn.preprocessing import PolynomialFeatures"
   ]
  },
  {
   "cell_type": "code",
   "execution_count": 337,
   "metadata": {},
   "outputs": [],
   "source": [
    "poly = PolynomialFeatures(degree=2, interaction_only=True)"
   ]
  },
  {
   "cell_type": "markdown",
   "metadata": {},
   "source": [
    "#### Scale the data"
   ]
  },
  {
   "cell_type": "code",
   "execution_count": 338,
   "metadata": {},
   "outputs": [],
   "source": [
    "from sklearn.preprocessing import StandardScaler\n",
    "\n",
    "scaler = StandardScaler()"
   ]
  },
  {
   "cell_type": "markdown",
   "metadata": {},
   "source": [
    "### Build the Models"
   ]
  },
  {
   "cell_type": "markdown",
   "metadata": {},
   "source": [
    "#### Split the data into train and test"
   ]
  },
  {
   "cell_type": "code",
   "execution_count": 332,
   "metadata": {},
   "outputs": [],
   "source": [
    "from sklearn.model_selection import train_test_split\n",
    "\n",
    "X = employees.drop([\"Attrition_rate\"], axis=1)\n",
    "y = employees[\"Attrition_rate\"]\n",
    "\n",
    "best_features = ['Education_Level', 'Time_since_promotion', 'growth_rate', 'VAR7', 'Post_Level', 'Pay_Scale', 'VAR2', 'Work_Life_balance', 'VAR6', 'Growth_per_ServiceYear']\n",
    "\n",
    "X = employees[best_features]\n",
    "\n",
    "X_train, X_test, y_train, y_test = train_test_split(X, y, test_size=0.2, random_state=0)"
   ]
  },
  {
   "cell_type": "code",
   "execution_count": 333,
   "metadata": {},
   "outputs": [
    {
     "data": {
      "text/plain": [
       "((5600, 10), (1400, 10), (5600,), (1400,))"
      ]
     },
     "execution_count": 333,
     "metadata": {},
     "output_type": "execute_result"
    }
   ],
   "source": [
    "X_train.shape, X_test.shape, y_train.shape, y_test.shape"
   ]
  },
  {
   "cell_type": "code",
   "execution_count": 334,
   "metadata": {},
   "outputs": [
    {
     "data": {
      "text/plain": [
       "Index(['Education_Level', 'Time_since_promotion', 'growth_rate', 'VAR7',\n",
       "       'Post_Level', 'Pay_Scale', 'VAR2', 'Work_Life_balance', 'VAR6',\n",
       "       'Growth_per_ServiceYear'],\n",
       "      dtype='object')"
      ]
     },
     "execution_count": 334,
     "metadata": {},
     "output_type": "execute_result"
    }
   ],
   "source": [
    "X_train.columns"
   ]
  },
  {
   "cell_type": "markdown",
   "metadata": {},
   "source": [
    "#### Build a pipeline with the tranformations"
   ]
  },
  {
   "cell_type": "code",
   "execution_count": 335,
   "metadata": {},
   "outputs": [],
   "source": [
    "from sklearn.pipeline import Pipeline\n",
    "\n",
    "pipe_transform = Pipeline([(\"scaler\", scaler)])"
   ]
  },
  {
   "cell_type": "code",
   "execution_count": 336,
   "metadata": {},
   "outputs": [],
   "source": [
    "from sklearn.linear_model import LinearRegression\n",
    "from sklearn.linear_model import Ridge\n",
    "from sklearn.tree import DecisionTreeRegressor\n",
    "from sklearn.neighbors import KNeighborsRegressor\n",
    "from sklearn.ensemble import RandomForestRegressor, GradientBoostingRegressor\n",
    "from sklearn.svm import SVR, LinearSVR\n",
    "from sklearn.metrics import mean_squared_error"
   ]
  },
  {
   "cell_type": "markdown",
   "metadata": {},
   "source": [
    "#### Transform X_test"
   ]
  },
  {
   "cell_type": "code",
   "execution_count": 339,
   "metadata": {},
   "outputs": [],
   "source": [
    "X_test = poly.fit_transform(X_test)\n",
    "X_test = scaler.fit_transform(X_test)"
   ]
  },
  {
   "cell_type": "markdown",
   "metadata": {},
   "source": [
    "#### LinearRegression"
   ]
  },
  {
   "cell_type": "code",
   "execution_count": 342,
   "metadata": {
    "scrolled": false
   },
   "outputs": [
    {
     "name": "stdout",
     "output_type": "stream",
     "text": [
      "81.00433806827273\n"
     ]
    }
   ],
   "source": [
    "linear_reg = LinearRegression(fit_intercept=True)\n",
    "\n",
    "pipe_lr = Pipeline([(\"poly\", poly), (\"scaler\", scaler), (\"linear_reg\", linear_reg)])\n",
    "pipe_lr.fit(X_train, y_train)\n",
    "\n",
    "# X_test = pipe_transform.fit_transform(X_test)\n",
    "y_preds = linear_reg.predict(X_test)\n",
    "\n",
    "score = 100 * max(0, 1 - mean_squared_error(y_test, y_preds, squared=False))\n",
    "\n",
    "print(score)"
   ]
  },
  {
   "cell_type": "markdown",
   "metadata": {},
   "source": [
    "#### Ridge"
   ]
  },
  {
   "cell_type": "code",
   "execution_count": 343,
   "metadata": {},
   "outputs": [
    {
     "name": "stdout",
     "output_type": "stream",
     "text": [
      "81.02959655290866\n"
     ]
    }
   ],
   "source": [
    "ridge = Ridge(alpha=10.0, max_iter=1000, solver='svd')\n",
    "\n",
    "pipe_ridge = Pipeline([(\"poly\", poly), (\"scaler\", scaler), (\"ridge\", ridge)])\n",
    "pipe_ridge.fit(X_train, y_train)\n",
    "\n",
    "# X_test = pipe_transform.fit_transform(X_test) // X_test has already been transformed in the Linear Regression Stage\n",
    "y_preds = ridge.predict(X_test)\n",
    "\n",
    "score=100*max(0, 1 - mean_squared_error(y_test, y_preds, squared=False))\n",
    "\n",
    "print(score)"
   ]
  },
  {
   "cell_type": "markdown",
   "metadata": {},
   "source": [
    "#### Decision Tree"
   ]
  },
  {
   "cell_type": "code",
   "execution_count": 344,
   "metadata": {},
   "outputs": [
    {
     "name": "stdout",
     "output_type": "stream",
     "text": [
      "73.24596544711166\n"
     ]
    }
   ],
   "source": [
    "decision_tree = DecisionTreeRegressor(max_features='log2', splitter='best')\n",
    "\n",
    "pipe_decision = Pipeline([(\"poly\", poly), (\"scaler\", scaler), (\"decision_tree\", decision_tree)])\n",
    "pipe_decision.fit(X_train, y_train)\n",
    "\n",
    "# X_test = pipe_transform.fit_transform(X_test) // X_test has already been transformed in the Linear Regression Stage\n",
    "y_preds = decision_tree.predict(X_test)\n",
    "\n",
    "score=100*max(0, 1 - mean_squared_error(y_test, y_preds, squared=False))\n",
    "\n",
    "print(score)"
   ]
  },
  {
   "cell_type": "markdown",
   "metadata": {},
   "source": [
    "#### KNN"
   ]
  },
  {
   "cell_type": "code",
   "execution_count": 345,
   "metadata": {},
   "outputs": [
    {
     "name": "stdout",
     "output_type": "stream",
     "text": [
      "79.30191599466322\n"
     ]
    }
   ],
   "source": [
    "knn = KNeighborsRegressor(algorithm='auto', weights='distance')\n",
    "\n",
    "pipe_knn = Pipeline([(\"poly\", poly), (\"scaler\", scaler), (\"knn\", knn)])\n",
    "pipe_knn.fit(X_train, y_train)\n",
    "\n",
    "# X_test = pipe_transform.fit_transform(X_test) // X_test has already been transformed in the Linear Regression Stage\n",
    "y_preds = knn.predict(X_test)\n",
    "\n",
    "score=100*max(0, 1 - mean_squared_error(y_test, y_preds, squared=False))\n",
    "\n",
    "print(score)"
   ]
  },
  {
   "cell_type": "markdown",
   "metadata": {},
   "source": [
    "#### Random Forest"
   ]
  },
  {
   "cell_type": "code",
   "execution_count": 346,
   "metadata": {},
   "outputs": [
    {
     "name": "stdout",
     "output_type": "stream",
     "text": [
      "80.71135592492904\n"
     ]
    }
   ],
   "source": [
    "random_forest = RandomForestRegressor(max_features='log2', n_estimators=200)\n",
    "\n",
    "pipe_random = Pipeline([(\"poly\", poly), (\"scaler\", scaler), (\"random_forest\", random_forest)])\n",
    "pipe_random.fit(X_train, y_train)\n",
    "\n",
    "# X_test = pipe_transform.fit_transform(X_test) // X_test has already been transformed in the Linear Regression Stage\n",
    "y_preds = random_forest.predict(X_test)\n",
    "\n",
    "score=100*max(0, 1 - mean_squared_error(y_test, y_preds, squared=False))\n",
    "\n",
    "print(score)"
   ]
  },
  {
   "cell_type": "markdown",
   "metadata": {},
   "source": [
    "#### Gradient Boosting"
   ]
  },
  {
   "cell_type": "code",
   "execution_count": 347,
   "metadata": {},
   "outputs": [
    {
     "name": "stdout",
     "output_type": "stream",
     "text": [
      "80.93818188129919\n"
     ]
    }
   ],
   "source": [
    "gboosting = GradientBoostingRegressor(max_features='log2', n_estimators=100)\n",
    "\n",
    "pipe_gboosting = Pipeline([(\"poly\", poly), (\"scaler\", scaler), (\"gboosting\", gboosting)])\n",
    "pipe_gboosting.fit(X_train, y_train)\n",
    "\n",
    "# X_test = pipe_transform.fit_transform(X_test) // X_test has already been transformed in the Linear Regression Stage\n",
    "y_preds = gboosting.predict(X_test)\n",
    "\n",
    "score=100*max(0, 1 - mean_squared_error(y_test, y_preds, squared=False))\n",
    "\n",
    "print(score)"
   ]
  },
  {
   "cell_type": "markdown",
   "metadata": {},
   "source": [
    "#### SVR"
   ]
  },
  {
   "cell_type": "code",
   "execution_count": 348,
   "metadata": {},
   "outputs": [
    {
     "name": "stdout",
     "output_type": "stream",
     "text": [
      "80.5681943885927\n"
     ]
    }
   ],
   "source": [
    "svr = SVR(C=0.1, degree=3, gamma='scale', kernel='poly')\n",
    "\n",
    "pipe_svr = Pipeline([(\"poly\", poly), (\"scaler\", scaler), (\"svr\", svr)])\n",
    "pipe_svr.fit(X_train, y_train)\n",
    "\n",
    "# X_test = pipe_transform.fit_transform(X_test) // X_test has already been transformed in the Linear Regression Stage\n",
    "y_preds = svr.predict(X_test)\n",
    "\n",
    "score=100*max(0, 1 - mean_squared_error(y_test, y_preds, squared=False))\n",
    "\n",
    "print(score)"
   ]
  },
  {
   "cell_type": "markdown",
   "metadata": {},
   "source": [
    "#### Linear SVR"
   ]
  },
  {
   "cell_type": "code",
   "execution_count": 350,
   "metadata": {},
   "outputs": [
    {
     "name": "stdout",
     "output_type": "stream",
     "text": [
      "80.57412822381393\n"
     ]
    }
   ],
   "source": [
    "linear_svr = LinearSVR(C=0.001, max_iter=3000)\n",
    "\n",
    "pipe_linear_svr = Pipeline([(\"poly\", poly), (\"scaler\", scaler), (\"linear_svr\", linear_svr)])\n",
    "pipe_linear_svr.fit(X_train, y_train)\n",
    "\n",
    "# X_test = pipe_transform.fit_transform(X_test) // X_test has already been transformed in the Linear Regression Stage\n",
    "y_preds = linear_svr.predict(X_test)\n",
    "\n",
    "score=100*max(0, 1 - mean_squared_error(y_test, y_preds, squared=False))\n",
    "\n",
    "print(score)"
   ]
  },
  {
   "cell_type": "markdown",
   "metadata": {},
   "source": [
    "### Hyperparameter Tuning"
   ]
  },
  {
   "cell_type": "code",
   "execution_count": 158,
   "metadata": {},
   "outputs": [],
   "source": [
    "from sklearn.model_selection import GridSearchCV"
   ]
  },
  {
   "cell_type": "markdown",
   "metadata": {},
   "source": [
    "#### Linear Regression Tuning"
   ]
  },
  {
   "cell_type": "code",
   "execution_count": 216,
   "metadata": {},
   "outputs": [
    {
     "name": "stdout",
     "output_type": "stream",
     "text": [
      "Fitting 5 folds for each of 2 candidates, totalling 10 fits\n"
     ]
    },
    {
     "name": "stderr",
     "output_type": "stream",
     "text": [
      "[Parallel(n_jobs=4)]: Using backend LokyBackend with 4 concurrent workers.\n"
     ]
    },
    {
     "name": "stdout",
     "output_type": "stream",
     "text": [
      "{'linear_reg__fit_intercept': True}\n"
     ]
    },
    {
     "name": "stderr",
     "output_type": "stream",
     "text": [
      "[Parallel(n_jobs=4)]: Done  10 out of  10 | elapsed:    2.9s finished\n"
     ]
    }
   ],
   "source": [
    "lr_param_grid = {\"linear_reg__fit_intercept\":[True, False]}\n",
    "\n",
    "lr_grid_search = GridSearchCV(pipe_lr, \n",
    "                           lr_param_grid, \n",
    "                           scoring=\"neg_root_mean_squared_error\", \n",
    "                           n_jobs=4, \n",
    "                           cv=5, \n",
    "                           verbose=1)\n",
    "\n",
    "lr_grid_search.fit(X_train, y_train)\n",
    "\n",
    "lr_bestparams = lr_grid_search.best_params_\n",
    "print(lr_bestparams)"
   ]
  },
  {
   "cell_type": "markdown",
   "metadata": {},
   "source": [
    "#### Ridge Tuning"
   ]
  },
  {
   "cell_type": "code",
   "execution_count": 244,
   "metadata": {},
   "outputs": [],
   "source": [
    "Ridge?"
   ]
  },
  {
   "cell_type": "code",
   "execution_count": 246,
   "metadata": {},
   "outputs": [
    {
     "name": "stdout",
     "output_type": "stream",
     "text": [
      "Fitting 5 folds for each of 196 candidates, totalling 980 fits\n"
     ]
    },
    {
     "name": "stderr",
     "output_type": "stream",
     "text": [
      "[Parallel(n_jobs=4)]: Using backend LokyBackend with 4 concurrent workers.\n",
      "[Parallel(n_jobs=4)]: Done  42 tasks      | elapsed:  2.0min\n",
      "[Parallel(n_jobs=4)]: Done 192 tasks      | elapsed: 10.4min\n",
      "[Parallel(n_jobs=4)]: Done 442 tasks      | elapsed: 24.9min\n",
      "[Parallel(n_jobs=4)]: Done 792 tasks      | elapsed: 44.8min\n",
      "[Parallel(n_jobs=4)]: Done 980 out of 980 | elapsed: 54.3min finished\n"
     ]
    },
    {
     "name": "stdout",
     "output_type": "stream",
     "text": [
      "{'ridge__alpha': 10, 'ridge__max_iter': 1000, 'ridge__solver': 'saga'}\n"
     ]
    }
   ],
   "source": [
    "ridge_param_grid = {\"ridge__alpha\": [0.0001, 0.001, 0.01, 0.1, 1, 10],\n",
    "                    \"ridge__max_iter\": range(1000, 5000, 1000), \n",
    "                    \"ridge__solver\": ['auto', 'svd', 'cholesky', 'lsqr', 'sparse_cg', 'sag', 'saga']}\n",
    "\n",
    "ridge_grid_search = GridSearchCV(pipe_ridge, \n",
    "                           ridge_param_grid, \n",
    "                           scoring=\"neg_root_mean_squared_error\", \n",
    "                           n_jobs=8, \n",
    "                           cv=5, \n",
    "                           verbose=1)\n",
    "\n",
    "ridge_grid_search.fit(X_train, y_train)\n",
    "\n",
    "ridge_bestparams = ridge_grid_search.best_params_\n",
    "print(ridge_bestparams)"
   ]
  },
  {
   "cell_type": "code",
   "execution_count": 431,
   "metadata": {
    "collapsed": true
   },
   "outputs": [],
   "source": [
    "DecisionTreeRegressor?"
   ]
  },
  {
   "cell_type": "markdown",
   "metadata": {},
   "source": [
    "#### Decision Tree Tuning"
   ]
  },
  {
   "cell_type": "code",
   "execution_count": 247,
   "metadata": {},
   "outputs": [
    {
     "name": "stdout",
     "output_type": "stream",
     "text": [
      "Fitting 5 folds for each of 6 candidates, totalling 30 fits\n"
     ]
    },
    {
     "name": "stderr",
     "output_type": "stream",
     "text": [
      "[Parallel(n_jobs=4)]: Using backend LokyBackend with 4 concurrent workers.\n",
      "[Parallel(n_jobs=4)]: Done  30 out of  30 | elapsed:   24.4s finished\n"
     ]
    },
    {
     "name": "stdout",
     "output_type": "stream",
     "text": [
      "{'decision_tree__max_features': 'log2', 'decision_tree__splitter': 'random'}\n"
     ]
    }
   ],
   "source": [
    "dt_param_grid = {\"decision_tree__splitter\": [\"best\", \"random\"],\n",
    "                 \"decision_tree__max_features\": [\"auto\", \"sqrt\", \"log2\"]}\n",
    "\n",
    "dt_grid_search = GridSearchCV(pipe_decision, \n",
    "                           dt_param_grid, \n",
    "                           scoring=\"neg_root_mean_squared_error\", \n",
    "                           n_jobs=4, \n",
    "                           cv=5, \n",
    "                           verbose=1)\n",
    "\n",
    "dt_grid_search.fit(X_train, y_train)\n",
    "\n",
    "dt_bestparams = dt_grid_search.best_params_\n",
    "print(dt_bestparams)"
   ]
  },
  {
   "cell_type": "code",
   "execution_count": 249,
   "metadata": {},
   "outputs": [],
   "source": [
    "KNeighborsRegressor?"
   ]
  },
  {
   "cell_type": "markdown",
   "metadata": {},
   "source": [
    "#### KNN Tuning"
   ]
  },
  {
   "cell_type": "code",
   "execution_count": 248,
   "metadata": {},
   "outputs": [
    {
     "name": "stdout",
     "output_type": "stream",
     "text": [
      "Fitting 5 folds for each of 8 candidates, totalling 40 fits\n"
     ]
    },
    {
     "name": "stderr",
     "output_type": "stream",
     "text": [
      "[Parallel(n_jobs=4)]: Using backend LokyBackend with 4 concurrent workers.\n",
      "[Parallel(n_jobs=4)]: Done  40 out of  40 | elapsed:  1.6min finished\n"
     ]
    },
    {
     "name": "stdout",
     "output_type": "stream",
     "text": [
      "{'knn__algorithm': 'auto', 'knn__weights': 'uniform'}\n"
     ]
    }
   ],
   "source": [
    "knn_param_grid = {\"knn__weights\": [\"uniform\", \"distance\"],\n",
    "                  \"knn__algorithm\": ['auto', 'ball_tree', 'kd_tree', 'brute']}\n",
    "\n",
    "knn_grid_search = GridSearchCV(pipe_knn, \n",
    "                           knn_param_grid, \n",
    "                           scoring=\"neg_root_mean_squared_error\", \n",
    "                           n_jobs=4, \n",
    "                           cv=5, \n",
    "                           verbose=1)\n",
    "\n",
    "knn_grid_search.fit(X_train, y_train)\n",
    "\n",
    "knn_bestparams = knn_grid_search.best_params_\n",
    "print(knn_bestparams)"
   ]
  },
  {
   "cell_type": "code",
   "execution_count": 250,
   "metadata": {},
   "outputs": [],
   "source": [
    "RandomForestRegressor?"
   ]
  },
  {
   "cell_type": "markdown",
   "metadata": {},
   "source": [
    "#### Random Forest Tuning"
   ]
  },
  {
   "cell_type": "code",
   "execution_count": null,
   "metadata": {},
   "outputs": [],
   "source": [
    "random_param_grid = {\"random_forest__n_estimators\": range(100, 250, 50),\n",
    "                     \"random_forest__max_features\": [\"auto\", \"sqrt\", \"log2\"],\n",
    "                     \"random_forest__min_samples_split\": np.linspace(0.1, 1.0, 10, endpoint=True)}\n",
    "\n",
    "random_grid_search = GridSearchCV(pipe_random, \n",
    "                           random_param_grid, \n",
    "                           scoring=\"neg_root_mean_squared_error\", \n",
    "                           n_jobs=4, \n",
    "                           cv=5, \n",
    "                           verbose=1)\n",
    "\n",
    "random_grid_search.fit(X_train, y_train)\n",
    "\n",
    "random_bestparams = random_grid_search.best_params_\n",
    "print(random_bestparams)"
   ]
  },
  {
   "cell_type": "code",
   "execution_count": 44,
   "metadata": {},
   "outputs": [],
   "source": [
    "GradientBoostingRegressor?"
   ]
  },
  {
   "cell_type": "markdown",
   "metadata": {},
   "source": [
    "#### Gradient Boosting Tuning"
   ]
  },
  {
   "cell_type": "code",
   "execution_count": null,
   "metadata": {},
   "outputs": [],
   "source": [
    "gb_param_grid = {\"gboosting__n_estimators\": range(100, 250, 50),\n",
    "                 \"gboosting__max_features\": [\"auto\", \"sqrt\", \"log2\"]}\n",
    "\n",
    "gb_grid_search = GridSearchCV(pipe_gboosting, \n",
    "                           gb_param_grid, \n",
    "                           scoring=\"neg_root_mean_squared_error\", \n",
    "                           n_jobs=4, \n",
    "                           cv=5, \n",
    "                           verbose=1)\n",
    "\n",
    "gb_grid_search.fit(X_train, y_train)\n",
    "\n",
    "gb_bestparams = gb_grid_search.best_params_\n",
    "print(gb_bestparams)"
   ]
  },
  {
   "cell_type": "code",
   "execution_count": null,
   "metadata": {},
   "outputs": [],
   "source": [
    "SVR?"
   ]
  },
  {
   "cell_type": "markdown",
   "metadata": {},
   "source": [
    "#### SVR Tuning"
   ]
  },
  {
   "cell_type": "code",
   "execution_count": null,
   "metadata": {},
   "outputs": [],
   "source": [
    "svr_param_grid = {\"svr__kernel\": [\"linear\", \"poly\", \"rbf\", \"sigmoid\", \"precomputed\"],\n",
    "                  \"svr__degree\": np.arange(1,4,1),\n",
    "                  \"svr__gamma\": [\"scale\", \"auto\"],\n",
    "                  \"svr__C\": [0.0001, 0.001, 0.01, 0.1, 0, 1, 10]\n",
    "                 }\n",
    "\n",
    "svr_grid_search = GridSearchCV(pipe_svr, \n",
    "                           svr_param_grid, \n",
    "                           scoring=\"neg_root_mean_squared_error\", \n",
    "                           n_jobs=6, \n",
    "                           cv=5, \n",
    "                           verbose=1)\n",
    "\n",
    "svr_grid_search.fit(X_train, y_train)\n",
    "\n",
    "svr_bestparams = svr_grid_search.best_params_\n",
    "print(svr_bestparams)"
   ]
  },
  {
   "cell_type": "code",
   "execution_count": 243,
   "metadata": {},
   "outputs": [],
   "source": [
    "LinearSVR?"
   ]
  },
  {
   "cell_type": "markdown",
   "metadata": {},
   "source": [
    "#### LinearSVR Tuning"
   ]
  },
  {
   "cell_type": "code",
   "execution_count": 311,
   "metadata": {},
   "outputs": [
    {
     "name": "stdout",
     "output_type": "stream",
     "text": [
      "Fitting 5 folds for each of 35 candidates, totalling 175 fits\n"
     ]
    },
    {
     "name": "stderr",
     "output_type": "stream",
     "text": [
      "[Parallel(n_jobs=4)]: Using backend LokyBackend with 4 concurrent workers.\n",
      "[Parallel(n_jobs=4)]: Done  42 tasks      | elapsed:   13.8s\n",
      "[Parallel(n_jobs=4)]: Done 175 out of 175 | elapsed: 14.7min finished\n"
     ]
    },
    {
     "name": "stdout",
     "output_type": "stream",
     "text": [
      "{'linear_svr__C': 0.001, 'linear_svr__max_iter': 3000}\n"
     ]
    }
   ],
   "source": [
    "lsvr_param_grid = {\"linear_svr__C\": [0.0001, 0.001, 0.01, 0.1, 0, 1, 10],\n",
    "                  \"linear_svr__max_iter\": np.arange(1000, 6000, 1000)}\n",
    "\n",
    "lsvr_grid_search = GridSearchCV(pipe_linear_svr, \n",
    "                           lsvr_param_grid, \n",
    "                           scoring=\"neg_root_mean_squared_error\", \n",
    "                           n_jobs=4, \n",
    "                           cv=5, \n",
    "                           verbose=1)\n",
    "\n",
    "lsvr_grid_search.fit(X_train, y_train)\n",
    "\n",
    "lsvr_bestparams = lsvr_grid_search.best_params_\n",
    "print(lsvr_bestparams)"
   ]
  },
  {
   "cell_type": "markdown",
   "metadata": {},
   "source": [
    "### Feature Selection"
   ]
  },
  {
   "cell_type": "code",
   "execution_count": 318,
   "metadata": {},
   "outputs": [],
   "source": [
    "from sklearn.feature_selection import RFECV, SelectKBest, chi2, f_regression"
   ]
  },
  {
   "cell_type": "markdown",
   "metadata": {},
   "source": [
    "#### Select 10 of the most important features"
   ]
  },
  {
   "cell_type": "code",
   "execution_count": 315,
   "metadata": {
    "scrolled": false
   },
   "outputs": [
    {
     "name": "stdout",
     "output_type": "stream",
     "text": [
      "Fitting estimator with 16 features.\n",
      "Index(['Education_Level', 'Time_of_service', 'Time_since_promotion',\n",
      "       'growth_rate', 'Travel_Rate', 'Post_Level', 'Pay_Scale', 'VAR2',\n",
      "       'Work_Life_balance', 'VAR7', 'VAR5', 'VAR6', 'Age', 'VAR3',\n",
      "       'Growth_per_ServiceYear'],\n",
      "      dtype='object')\n",
      "\n",
      "\n",
      "[1 1 1 1 1 1 1 1 1 1 1 2 1 1 1 1]\n",
      "Education_Level, Selected True, Rank: 1.000\n",
      "Time_of_service, Selected True, Rank: 1.000\n",
      "Time_since_promotion, Selected True, Rank: 1.000\n",
      "growth_rate, Selected True, Rank: 1.000\n",
      "Travel_Rate, Selected True, Rank: 1.000\n",
      "Post_Level, Selected True, Rank: 1.000\n",
      "Pay_Scale, Selected True, Rank: 1.000\n",
      "VAR2, Selected True, Rank: 1.000\n",
      "Work_Life_balance, Selected True, Rank: 1.000\n",
      "VAR7, Selected True, Rank: 1.000\n",
      "VAR5, Selected True, Rank: 1.000\n",
      "VAR1, Selected False, Rank: 2.000\n",
      "VAR6, Selected True, Rank: 1.000\n",
      "Age, Selected True, Rank: 1.000\n",
      "VAR3, Selected True, Rank: 1.000\n",
      "Growth_per_ServiceYear, Selected True, Rank: 1.000\n"
     ]
    }
   ],
   "source": [
    "# X_train_transformed = scaler.fit_transform(X_train)\n",
    "\n",
    "rfecv = RFECV(linear_svr, min_features_to_select=1, cv=10, scoring=\"neg_root_mean_squared_error\", verbose=1, n_jobs=4)\n",
    "rfecv.fit(X_train, y_train)\n",
    "\n",
    "select_features = X_train.columns[rfecv.support_]\n",
    "\n",
    "print(select_features)\n",
    "print(\"\\n\")\n",
    "print(rfecv.ranking_)\n",
    "\n",
    "for i in range(X_train.shape[1]):\n",
    "    print('%s, Selected %s, Rank: %.3f' % (X_train.columns[i], rfecv.support_[i], rfecv.ranking_[i]))"
   ]
  },
  {
   "cell_type": "code",
   "execution_count": 330,
   "metadata": {},
   "outputs": [
    {
     "name": "stdout",
     "output_type": "stream",
     "text": [
      "The best features are:['Education_Level', 'Time_since_promotion', 'growth_rate', 'Travel_Rate', 'Post_Level', 'Pay_Scale', 'VAR2', 'Work_Life_balance', 'VAR6', 'Growth_per_ServiceYear']\n"
     ]
    }
   ],
   "source": [
    "kbest = SelectKBest(f_regression, k=10).fit(X_train, y_train)\n",
    "\n",
    "mask = kbest.get_support() #list of booleans for selected features\n",
    "new_feat = [] \n",
    "for bool, feature in zip(mask, X_train.columns):\n",
    "    if bool:\n",
    "        new_feat.append(feature)\n",
    "        \n",
    "print(\"The best features are:{}\".format(new_feat))"
   ]
  },
  {
   "cell_type": "markdown",
   "metadata": {},
   "source": [
    "#### Best Overall Features\n",
    "* Education level\n",
    "* Time_of_service\n",
    "* Time_since_promotion\n",
    "* growth_rate\n",
    "* Travel_Rate\n",
    "* Post_Level\n",
    "* Pay_Scale\n",
    "* VAR2\n",
    "* Work_Life_balance\n",
    "* VAR7\n",
    "* VAR5\n",
    "* VAR1\n",
    "* VAR6\n",
    "* Age\n",
    "* VAR3\n",
    "* Growth_per_ServiceYear\n"
   ]
  },
  {
   "cell_type": "code",
   "execution_count": 331,
   "metadata": {},
   "outputs": [],
   "source": [
    "SelectKBest?"
   ]
  },
  {
   "cell_type": "markdown",
   "metadata": {},
   "source": [
    "### Write Submissions to File"
   ]
  },
  {
   "cell_type": "markdown",
   "metadata": {},
   "source": [
    "#### Read in test data"
   ]
  },
  {
   "cell_type": "code",
   "execution_count": 351,
   "metadata": {},
   "outputs": [],
   "source": [
    "employees_test = pd.read_csv(\"./Attrition_Rate_Prediction/Dataset/Test.csv\")"
   ]
  },
  {
   "cell_type": "raw",
   "metadata": {},
   "source": [
    "employees_test.head()"
   ]
  },
  {
   "cell_type": "code",
   "execution_count": 355,
   "metadata": {},
   "outputs": [],
   "source": [
    "def writeToFile(model, test_data, model_name):\n",
    "    IDs = test_data['Employee_ID']\n",
    "    test = test_data.drop(\"Employee_ID\", axis=1)\n",
    "\n",
    "#     test = pipe_transform.fit_transform(test)\n",
    "    test[continuous_cols] = continuous_imputer.fit_transform(test[continuous_cols])\n",
    "    test[categorical_cols] = categorical_imputer.fit_transform(test[categorical_cols])\n",
    "    \n",
    "    test = new_columns(test)\n",
    "    \n",
    "    test = test[best_features]\n",
    "    \n",
    "    test = poly.fit_transform(test)\n",
    "        \n",
    "    test = scaler.fit_transform(test)\n",
    "\n",
    "    preds = model.predict(test)\n",
    "    \n",
    "    df = pd.DataFrame({\"Employee_ID\" : IDs, \"Attrition_rate\" : preds})   \n",
    "    df = df[[\"Employee_ID\", \"Attrition_rate\"]]\n",
    "    \n",
    "    df.to_csv(model_name + '.csv',index=False)"
   ]
  },
  {
   "cell_type": "code",
   "execution_count": 356,
   "metadata": {},
   "outputs": [],
   "source": [
    "writeToFile(random_forest, employees_test, \"RandomForest_4\")"
   ]
  },
  {
   "cell_type": "markdown",
   "metadata": {},
   "source": [
    "#### Score: 80.84757 , 81.13444"
   ]
  },
  {
   "cell_type": "code",
   "execution_count": 357,
   "metadata": {
    "scrolled": true
   },
   "outputs": [],
   "source": [
    "writeToFile(linear_reg, employees_test, \"LinearRegression_4\")"
   ]
  },
  {
   "cell_type": "markdown",
   "metadata": {},
   "source": [
    "#### Score: 0"
   ]
  },
  {
   "cell_type": "code",
   "execution_count": 358,
   "metadata": {},
   "outputs": [],
   "source": [
    "writeToFile(decision_tree, employees_test, \"DecisionTree_4\")"
   ]
  },
  {
   "cell_type": "markdown",
   "metadata": {},
   "source": [
    "#### Score: 72.47442 , 73.20637"
   ]
  },
  {
   "cell_type": "code",
   "execution_count": 359,
   "metadata": {},
   "outputs": [],
   "source": [
    "writeToFile(knn, employees_test, \"KNN_4\")"
   ]
  },
  {
   "cell_type": "markdown",
   "metadata": {},
   "source": [
    "#### Score: 79.66077 , 79.49227"
   ]
  },
  {
   "cell_type": "code",
   "execution_count": 360,
   "metadata": {},
   "outputs": [],
   "source": [
    "writeToFile(svr, employees_test, \"SVR_4\")"
   ]
  },
  {
   "cell_type": "markdown",
   "metadata": {},
   "source": [
    "#### Score: 80.18332, 81.07819"
   ]
  },
  {
   "cell_type": "code",
   "execution_count": 361,
   "metadata": {},
   "outputs": [],
   "source": [
    "writeToFile(linear_svr, employees_test, \"LinearSVR_4\")"
   ]
  },
  {
   "cell_type": "markdown",
   "metadata": {},
   "source": [
    "#### Score: 80.22625 , 80.41888"
   ]
  },
  {
   "cell_type": "code",
   "execution_count": 362,
   "metadata": {},
   "outputs": [],
   "source": [
    "writeToFile(ridge, employees_test, \"Ridge_4\")"
   ]
  },
  {
   "cell_type": "markdown",
   "metadata": {},
   "source": [
    "#### Score: 80.69361 , 80.70715"
   ]
  },
  {
   "cell_type": "code",
   "execution_count": 363,
   "metadata": {},
   "outputs": [],
   "source": [
    "writeToFile(gboosting, employees_test, \"GradientBoosting_4\")"
   ]
  },
  {
   "cell_type": "markdown",
   "metadata": {},
   "source": [
    "#### Score: 80.99213 , 81.12128"
   ]
  },
  {
   "cell_type": "code",
   "execution_count": null,
   "metadata": {},
   "outputs": [],
   "source": []
  }
 ],
 "metadata": {
  "kernelspec": {
   "display_name": "Python 3",
   "language": "python",
   "name": "python3"
  },
  "language_info": {
   "codemirror_mode": {
    "name": "ipython",
    "version": 3
   },
   "file_extension": ".py",
   "mimetype": "text/x-python",
   "name": "python",
   "nbconvert_exporter": "python",
   "pygments_lexer": "ipython3",
   "version": "3.6.4"
  }
 },
 "nbformat": 4,
 "nbformat_minor": 2
}
