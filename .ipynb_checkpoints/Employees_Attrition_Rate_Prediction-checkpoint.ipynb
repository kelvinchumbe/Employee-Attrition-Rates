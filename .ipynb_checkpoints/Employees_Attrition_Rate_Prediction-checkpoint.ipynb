{
 "cells": [
  {
   "cell_type": "code",
   "execution_count": 255,
   "metadata": {},
   "outputs": [],
   "source": [
    "# import required dependecies\n",
    "import pandas as pd\n",
    "import numpy as np\n",
    "import matplotlib.pyplot as plt\n",
    "import seaborn as sns\n",
    "sns.set()\n",
    "\n",
    "%matplotlib inline"
   ]
  },
  {
   "cell_type": "code",
   "execution_count": 256,
   "metadata": {},
   "outputs": [],
   "source": [
    "# Set display options\n",
    "pd.set_option(\"display.max_columns\", 300)\n",
    "pd.set_option(\"display.max_rows\", 300)"
   ]
  },
  {
   "cell_type": "code",
   "execution_count": 257,
   "metadata": {},
   "outputs": [],
   "source": [
    "# Read in the data\n",
    "employees = pd.read_csv('./Attrition_Rate_Prediction/Dataset/Train.csv')"
   ]
  },
  {
   "cell_type": "code",
   "execution_count": 258,
   "metadata": {},
   "outputs": [],
   "source": [
    "# Create a copy of the dataframe\n",
    "copy_employees = employees.copy()"
   ]
  },
  {
   "cell_type": "code",
   "execution_count": 259,
   "metadata": {
    "scrolled": true
   },
   "outputs": [
    {
     "data": {
      "text/html": [
       "<div>\n",
       "<style scoped>\n",
       "    .dataframe tbody tr th:only-of-type {\n",
       "        vertical-align: middle;\n",
       "    }\n",
       "\n",
       "    .dataframe tbody tr th {\n",
       "        vertical-align: top;\n",
       "    }\n",
       "\n",
       "    .dataframe thead th {\n",
       "        text-align: right;\n",
       "    }\n",
       "</style>\n",
       "<table border=\"1\" class=\"dataframe\">\n",
       "  <thead>\n",
       "    <tr style=\"text-align: right;\">\n",
       "      <th></th>\n",
       "      <th>Employee_ID</th>\n",
       "      <th>Gender</th>\n",
       "      <th>Age</th>\n",
       "      <th>Education_Level</th>\n",
       "      <th>Relationship_Status</th>\n",
       "      <th>Hometown</th>\n",
       "      <th>Unit</th>\n",
       "      <th>Decision_skill_possess</th>\n",
       "      <th>Time_of_service</th>\n",
       "      <th>Time_since_promotion</th>\n",
       "      <th>growth_rate</th>\n",
       "      <th>Travel_Rate</th>\n",
       "      <th>Post_Level</th>\n",
       "      <th>Pay_Scale</th>\n",
       "      <th>Compensation_and_Benefits</th>\n",
       "      <th>Work_Life_balance</th>\n",
       "      <th>VAR1</th>\n",
       "      <th>VAR2</th>\n",
       "      <th>VAR3</th>\n",
       "      <th>VAR4</th>\n",
       "      <th>VAR5</th>\n",
       "      <th>VAR6</th>\n",
       "      <th>VAR7</th>\n",
       "      <th>Attrition_rate</th>\n",
       "    </tr>\n",
       "  </thead>\n",
       "  <tbody>\n",
       "    <tr>\n",
       "      <th>0</th>\n",
       "      <td>EID_23371</td>\n",
       "      <td>F</td>\n",
       "      <td>42.0</td>\n",
       "      <td>4</td>\n",
       "      <td>Married</td>\n",
       "      <td>Franklin</td>\n",
       "      <td>IT</td>\n",
       "      <td>Conceptual</td>\n",
       "      <td>4.0</td>\n",
       "      <td>4</td>\n",
       "      <td>33</td>\n",
       "      <td>1</td>\n",
       "      <td>1</td>\n",
       "      <td>7.0</td>\n",
       "      <td>type2</td>\n",
       "      <td>3.0</td>\n",
       "      <td>4</td>\n",
       "      <td>0.7516</td>\n",
       "      <td>1.8688</td>\n",
       "      <td>2.0</td>\n",
       "      <td>4</td>\n",
       "      <td>5</td>\n",
       "      <td>3</td>\n",
       "      <td>0.1841</td>\n",
       "    </tr>\n",
       "    <tr>\n",
       "      <th>1</th>\n",
       "      <td>EID_18000</td>\n",
       "      <td>M</td>\n",
       "      <td>24.0</td>\n",
       "      <td>3</td>\n",
       "      <td>Single</td>\n",
       "      <td>Springfield</td>\n",
       "      <td>Logistics</td>\n",
       "      <td>Analytical</td>\n",
       "      <td>5.0</td>\n",
       "      <td>4</td>\n",
       "      <td>36</td>\n",
       "      <td>0</td>\n",
       "      <td>3</td>\n",
       "      <td>6.0</td>\n",
       "      <td>type2</td>\n",
       "      <td>4.0</td>\n",
       "      <td>3</td>\n",
       "      <td>-0.9612</td>\n",
       "      <td>-0.4537</td>\n",
       "      <td>2.0</td>\n",
       "      <td>3</td>\n",
       "      <td>5</td>\n",
       "      <td>3</td>\n",
       "      <td>0.0670</td>\n",
       "    </tr>\n",
       "    <tr>\n",
       "      <th>2</th>\n",
       "      <td>EID_3891</td>\n",
       "      <td>F</td>\n",
       "      <td>58.0</td>\n",
       "      <td>3</td>\n",
       "      <td>Married</td>\n",
       "      <td>Clinton</td>\n",
       "      <td>Quality</td>\n",
       "      <td>Conceptual</td>\n",
       "      <td>27.0</td>\n",
       "      <td>3</td>\n",
       "      <td>51</td>\n",
       "      <td>0</td>\n",
       "      <td>2</td>\n",
       "      <td>8.0</td>\n",
       "      <td>type2</td>\n",
       "      <td>1.0</td>\n",
       "      <td>4</td>\n",
       "      <td>-0.9612</td>\n",
       "      <td>-0.4537</td>\n",
       "      <td>3.0</td>\n",
       "      <td>3</td>\n",
       "      <td>8</td>\n",
       "      <td>3</td>\n",
       "      <td>0.0851</td>\n",
       "    </tr>\n",
       "    <tr>\n",
       "      <th>3</th>\n",
       "      <td>EID_17492</td>\n",
       "      <td>F</td>\n",
       "      <td>26.0</td>\n",
       "      <td>3</td>\n",
       "      <td>Single</td>\n",
       "      <td>Lebanon</td>\n",
       "      <td>Human Resource Management</td>\n",
       "      <td>Behavioral</td>\n",
       "      <td>4.0</td>\n",
       "      <td>3</td>\n",
       "      <td>56</td>\n",
       "      <td>1</td>\n",
       "      <td>3</td>\n",
       "      <td>8.0</td>\n",
       "      <td>type2</td>\n",
       "      <td>1.0</td>\n",
       "      <td>3</td>\n",
       "      <td>-1.8176</td>\n",
       "      <td>-0.4537</td>\n",
       "      <td>NaN</td>\n",
       "      <td>3</td>\n",
       "      <td>7</td>\n",
       "      <td>3</td>\n",
       "      <td>0.0668</td>\n",
       "    </tr>\n",
       "    <tr>\n",
       "      <th>4</th>\n",
       "      <td>EID_22534</td>\n",
       "      <td>F</td>\n",
       "      <td>31.0</td>\n",
       "      <td>1</td>\n",
       "      <td>Married</td>\n",
       "      <td>Springfield</td>\n",
       "      <td>Logistics</td>\n",
       "      <td>Conceptual</td>\n",
       "      <td>5.0</td>\n",
       "      <td>4</td>\n",
       "      <td>62</td>\n",
       "      <td>1</td>\n",
       "      <td>3</td>\n",
       "      <td>2.0</td>\n",
       "      <td>type3</td>\n",
       "      <td>3.0</td>\n",
       "      <td>1</td>\n",
       "      <td>0.7516</td>\n",
       "      <td>-0.4537</td>\n",
       "      <td>2.0</td>\n",
       "      <td>2</td>\n",
       "      <td>8</td>\n",
       "      <td>2</td>\n",
       "      <td>0.1827</td>\n",
       "    </tr>\n",
       "  </tbody>\n",
       "</table>\n",
       "</div>"
      ],
      "text/plain": [
       "  Employee_ID Gender   Age  Education_Level Relationship_Status     Hometown  \\\n",
       "0   EID_23371      F  42.0                4             Married     Franklin   \n",
       "1   EID_18000      M  24.0                3              Single  Springfield   \n",
       "2    EID_3891      F  58.0                3             Married      Clinton   \n",
       "3   EID_17492      F  26.0                3              Single      Lebanon   \n",
       "4   EID_22534      F  31.0                1             Married  Springfield   \n",
       "\n",
       "                        Unit Decision_skill_possess  Time_of_service  \\\n",
       "0                         IT             Conceptual              4.0   \n",
       "1                  Logistics             Analytical              5.0   \n",
       "2                    Quality             Conceptual             27.0   \n",
       "3  Human Resource Management             Behavioral              4.0   \n",
       "4                  Logistics             Conceptual              5.0   \n",
       "\n",
       "   Time_since_promotion  growth_rate  Travel_Rate  Post_Level  Pay_Scale  \\\n",
       "0                     4           33            1           1        7.0   \n",
       "1                     4           36            0           3        6.0   \n",
       "2                     3           51            0           2        8.0   \n",
       "3                     3           56            1           3        8.0   \n",
       "4                     4           62            1           3        2.0   \n",
       "\n",
       "  Compensation_and_Benefits  Work_Life_balance  VAR1    VAR2    VAR3  VAR4  \\\n",
       "0                     type2                3.0     4  0.7516  1.8688   2.0   \n",
       "1                     type2                4.0     3 -0.9612 -0.4537   2.0   \n",
       "2                     type2                1.0     4 -0.9612 -0.4537   3.0   \n",
       "3                     type2                1.0     3 -1.8176 -0.4537   NaN   \n",
       "4                     type3                3.0     1  0.7516 -0.4537   2.0   \n",
       "\n",
       "   VAR5  VAR6  VAR7  Attrition_rate  \n",
       "0     4     5     3          0.1841  \n",
       "1     3     5     3          0.0670  \n",
       "2     3     8     3          0.0851  \n",
       "3     3     7     3          0.0668  \n",
       "4     2     8     2          0.1827  "
      ]
     },
     "execution_count": 259,
     "metadata": {},
     "output_type": "execute_result"
    }
   ],
   "source": [
    "employees.head(5)"
   ]
  },
  {
   "cell_type": "markdown",
   "metadata": {},
   "source": [
    "#### Observations\n",
    "* Travel_Rate should range from 1-3 but there seems to be 0 in the data\n",
    "* There are null values in the data"
   ]
  },
  {
   "cell_type": "markdown",
   "metadata": {},
   "source": [
    "### Exploratory Data Analysis"
   ]
  },
  {
   "cell_type": "markdown",
   "metadata": {},
   "source": [
    "#### Data Cleaning and preliminary EDA"
   ]
  },
  {
   "cell_type": "code",
   "execution_count": 260,
   "metadata": {},
   "outputs": [
    {
     "data": {
      "text/plain": [
       "Employee_ID                    0\n",
       "Gender                         0\n",
       "Age                          412\n",
       "Education_Level                0\n",
       "Relationship_Status            0\n",
       "Hometown                       0\n",
       "Unit                           0\n",
       "Decision_skill_possess         0\n",
       "Time_of_service              144\n",
       "Time_since_promotion           0\n",
       "growth_rate                    0\n",
       "Travel_Rate                    0\n",
       "Post_Level                     0\n",
       "Pay_Scale                      9\n",
       "Compensation_and_Benefits      0\n",
       "Work_Life_balance             11\n",
       "VAR1                           0\n",
       "VAR2                         577\n",
       "VAR3                           0\n",
       "VAR4                         656\n",
       "VAR5                           0\n",
       "VAR6                           0\n",
       "VAR7                           0\n",
       "Attrition_rate                 0\n",
       "dtype: int64"
      ]
     },
     "execution_count": 260,
     "metadata": {},
     "output_type": "execute_result"
    }
   ],
   "source": [
    "# Check for null values\n",
    "pd.isnull(employees).sum()"
   ]
  },
  {
   "cell_type": "markdown",
   "metadata": {},
   "source": [
    "#### Columns with null values\n",
    "* Age\n",
    "* Time of service\n",
    "* Var2\n",
    "* Var4"
   ]
  },
  {
   "cell_type": "code",
   "execution_count": 261,
   "metadata": {},
   "outputs": [],
   "source": [
    "# Drop irrelevant columns i.e. Employee_ID. Doesn help us in the analysis\n",
    "employees.drop(\"Employee_ID\", axis=1, inplace=True)"
   ]
  },
  {
   "cell_type": "code",
   "execution_count": 262,
   "metadata": {},
   "outputs": [
    {
     "data": {
      "text/html": [
       "<div>\n",
       "<style scoped>\n",
       "    .dataframe tbody tr th:only-of-type {\n",
       "        vertical-align: middle;\n",
       "    }\n",
       "\n",
       "    .dataframe tbody tr th {\n",
       "        vertical-align: top;\n",
       "    }\n",
       "\n",
       "    .dataframe thead th {\n",
       "        text-align: right;\n",
       "    }\n",
       "</style>\n",
       "<table border=\"1\" class=\"dataframe\">\n",
       "  <thead>\n",
       "    <tr style=\"text-align: right;\">\n",
       "      <th></th>\n",
       "      <th>Gender</th>\n",
       "      <th>Age</th>\n",
       "      <th>Education_Level</th>\n",
       "      <th>Relationship_Status</th>\n",
       "      <th>Hometown</th>\n",
       "      <th>Unit</th>\n",
       "      <th>Decision_skill_possess</th>\n",
       "      <th>Time_of_service</th>\n",
       "      <th>Time_since_promotion</th>\n",
       "      <th>growth_rate</th>\n",
       "      <th>Travel_Rate</th>\n",
       "      <th>Post_Level</th>\n",
       "      <th>Pay_Scale</th>\n",
       "      <th>Compensation_and_Benefits</th>\n",
       "      <th>Work_Life_balance</th>\n",
       "      <th>VAR1</th>\n",
       "      <th>VAR2</th>\n",
       "      <th>VAR3</th>\n",
       "      <th>VAR4</th>\n",
       "      <th>VAR5</th>\n",
       "      <th>VAR6</th>\n",
       "      <th>VAR7</th>\n",
       "      <th>Attrition_rate</th>\n",
       "    </tr>\n",
       "  </thead>\n",
       "  <tbody>\n",
       "    <tr>\n",
       "      <th>0</th>\n",
       "      <td>F</td>\n",
       "      <td>42.0</td>\n",
       "      <td>4</td>\n",
       "      <td>Married</td>\n",
       "      <td>Franklin</td>\n",
       "      <td>IT</td>\n",
       "      <td>Conceptual</td>\n",
       "      <td>4.0</td>\n",
       "      <td>4</td>\n",
       "      <td>33</td>\n",
       "      <td>1</td>\n",
       "      <td>1</td>\n",
       "      <td>7.0</td>\n",
       "      <td>type2</td>\n",
       "      <td>3.0</td>\n",
       "      <td>4</td>\n",
       "      <td>0.7516</td>\n",
       "      <td>1.8688</td>\n",
       "      <td>2.0</td>\n",
       "      <td>4</td>\n",
       "      <td>5</td>\n",
       "      <td>3</td>\n",
       "      <td>0.1841</td>\n",
       "    </tr>\n",
       "  </tbody>\n",
       "</table>\n",
       "</div>"
      ],
      "text/plain": [
       "  Gender   Age  Education_Level Relationship_Status  Hometown Unit  \\\n",
       "0      F  42.0                4             Married  Franklin   IT   \n",
       "\n",
       "  Decision_skill_possess  Time_of_service  Time_since_promotion  growth_rate  \\\n",
       "0             Conceptual              4.0                     4           33   \n",
       "\n",
       "   Travel_Rate  Post_Level  Pay_Scale Compensation_and_Benefits  \\\n",
       "0            1           1        7.0                     type2   \n",
       "\n",
       "   Work_Life_balance  VAR1    VAR2    VAR3  VAR4  VAR5  VAR6  VAR7  \\\n",
       "0                3.0     4  0.7516  1.8688   2.0     4     5     3   \n",
       "\n",
       "   Attrition_rate  \n",
       "0          0.1841  "
      ]
     },
     "execution_count": 262,
     "metadata": {},
     "output_type": "execute_result"
    }
   ],
   "source": [
    "employees.head(1)"
   ]
  },
  {
   "cell_type": "code",
   "execution_count": 263,
   "metadata": {},
   "outputs": [
    {
     "data": {
      "text/plain": [
       "Gender                        object\n",
       "Age                          float64\n",
       "Education_Level                int64\n",
       "Relationship_Status           object\n",
       "Hometown                      object\n",
       "Unit                          object\n",
       "Decision_skill_possess        object\n",
       "Time_of_service              float64\n",
       "Time_since_promotion           int64\n",
       "growth_rate                    int64\n",
       "Travel_Rate                    int64\n",
       "Post_Level                     int64\n",
       "Pay_Scale                    float64\n",
       "Compensation_and_Benefits     object\n",
       "Work_Life_balance            float64\n",
       "VAR1                           int64\n",
       "VAR2                         float64\n",
       "VAR3                         float64\n",
       "VAR4                         float64\n",
       "VAR5                           int64\n",
       "VAR6                           int64\n",
       "VAR7                           int64\n",
       "Attrition_rate               float64\n",
       "dtype: object"
      ]
     },
     "execution_count": 263,
     "metadata": {},
     "output_type": "execute_result"
    }
   ],
   "source": [
    "# Check on the data types in each column\n",
    "employees.dtypes"
   ]
  },
  {
   "cell_type": "code",
   "execution_count": 264,
   "metadata": {},
   "outputs": [
    {
     "data": {
      "text/html": [
       "<div>\n",
       "<style scoped>\n",
       "    .dataframe tbody tr th:only-of-type {\n",
       "        vertical-align: middle;\n",
       "    }\n",
       "\n",
       "    .dataframe tbody tr th {\n",
       "        vertical-align: top;\n",
       "    }\n",
       "\n",
       "    .dataframe thead th {\n",
       "        text-align: right;\n",
       "    }\n",
       "</style>\n",
       "<table border=\"1\" class=\"dataframe\">\n",
       "  <thead>\n",
       "    <tr style=\"text-align: right;\">\n",
       "      <th></th>\n",
       "      <th>Gender</th>\n",
       "      <th>Age</th>\n",
       "      <th>Education_Level</th>\n",
       "      <th>Relationship_Status</th>\n",
       "      <th>Hometown</th>\n",
       "      <th>Unit</th>\n",
       "      <th>Decision_skill_possess</th>\n",
       "      <th>Time_of_service</th>\n",
       "      <th>Time_since_promotion</th>\n",
       "      <th>growth_rate</th>\n",
       "      <th>Travel_Rate</th>\n",
       "      <th>Post_Level</th>\n",
       "      <th>Pay_Scale</th>\n",
       "      <th>Compensation_and_Benefits</th>\n",
       "      <th>Work_Life_balance</th>\n",
       "      <th>VAR1</th>\n",
       "      <th>VAR2</th>\n",
       "      <th>VAR3</th>\n",
       "      <th>VAR4</th>\n",
       "      <th>VAR5</th>\n",
       "      <th>VAR6</th>\n",
       "      <th>VAR7</th>\n",
       "      <th>Attrition_rate</th>\n",
       "    </tr>\n",
       "  </thead>\n",
       "  <tbody>\n",
       "  </tbody>\n",
       "</table>\n",
       "</div>"
      ],
      "text/plain": [
       "Empty DataFrame\n",
       "Columns: [Gender, Age, Education_Level, Relationship_Status, Hometown, Unit, Decision_skill_possess, Time_of_service, Time_since_promotion, growth_rate, Travel_Rate, Post_Level, Pay_Scale, Compensation_and_Benefits, Work_Life_balance, VAR1, VAR2, VAR3, VAR4, VAR5, VAR6, VAR7, Attrition_rate]\n",
       "Index: []"
      ]
     },
     "execution_count": 264,
     "metadata": {},
     "output_type": "execute_result"
    }
   ],
   "source": [
    "# Check for duplicated entries/ observations in the data\n",
    "employees[employees.duplicated(keep='first')]"
   ]
  },
  {
   "cell_type": "code",
   "execution_count": 265,
   "metadata": {
    "scrolled": true
   },
   "outputs": [
    {
     "data": {
      "text/html": [
       "<div>\n",
       "<style scoped>\n",
       "    .dataframe tbody tr th:only-of-type {\n",
       "        vertical-align: middle;\n",
       "    }\n",
       "\n",
       "    .dataframe tbody tr th {\n",
       "        vertical-align: top;\n",
       "    }\n",
       "\n",
       "    .dataframe thead th {\n",
       "        text-align: right;\n",
       "    }\n",
       "</style>\n",
       "<table border=\"1\" class=\"dataframe\">\n",
       "  <thead>\n",
       "    <tr style=\"text-align: right;\">\n",
       "      <th></th>\n",
       "      <th>Age</th>\n",
       "      <th>Education_Level</th>\n",
       "      <th>Time_of_service</th>\n",
       "      <th>Time_since_promotion</th>\n",
       "      <th>growth_rate</th>\n",
       "      <th>Travel_Rate</th>\n",
       "      <th>Post_Level</th>\n",
       "      <th>Pay_Scale</th>\n",
       "      <th>Work_Life_balance</th>\n",
       "      <th>VAR1</th>\n",
       "      <th>VAR2</th>\n",
       "      <th>VAR3</th>\n",
       "      <th>VAR4</th>\n",
       "      <th>VAR5</th>\n",
       "      <th>VAR6</th>\n",
       "      <th>VAR7</th>\n",
       "      <th>Attrition_rate</th>\n",
       "    </tr>\n",
       "  </thead>\n",
       "  <tbody>\n",
       "    <tr>\n",
       "      <th>count</th>\n",
       "      <td>6588.000000</td>\n",
       "      <td>7000.000000</td>\n",
       "      <td>6856.000000</td>\n",
       "      <td>7000.000000</td>\n",
       "      <td>7000.000000</td>\n",
       "      <td>7000.000000</td>\n",
       "      <td>7000.000000</td>\n",
       "      <td>6991.000000</td>\n",
       "      <td>6989.000000</td>\n",
       "      <td>7000.000000</td>\n",
       "      <td>6423.000000</td>\n",
       "      <td>7000.000000</td>\n",
       "      <td>6344.000000</td>\n",
       "      <td>7000.000000</td>\n",
       "      <td>7000.000000</td>\n",
       "      <td>7000.000000</td>\n",
       "      <td>7000.000000</td>\n",
       "    </tr>\n",
       "    <tr>\n",
       "      <th>mean</th>\n",
       "      <td>39.622799</td>\n",
       "      <td>3.187857</td>\n",
       "      <td>13.385064</td>\n",
       "      <td>2.367143</td>\n",
       "      <td>47.064286</td>\n",
       "      <td>0.817857</td>\n",
       "      <td>2.798000</td>\n",
       "      <td>6.006294</td>\n",
       "      <td>2.387895</td>\n",
       "      <td>3.098571</td>\n",
       "      <td>-0.008126</td>\n",
       "      <td>-0.013606</td>\n",
       "      <td>1.891078</td>\n",
       "      <td>2.834143</td>\n",
       "      <td>7.101286</td>\n",
       "      <td>3.257000</td>\n",
       "      <td>0.189376</td>\n",
       "    </tr>\n",
       "    <tr>\n",
       "      <th>std</th>\n",
       "      <td>13.606920</td>\n",
       "      <td>1.065102</td>\n",
       "      <td>10.364188</td>\n",
       "      <td>1.149395</td>\n",
       "      <td>15.761406</td>\n",
       "      <td>0.648205</td>\n",
       "      <td>1.163721</td>\n",
       "      <td>2.058435</td>\n",
       "      <td>1.122786</td>\n",
       "      <td>0.836377</td>\n",
       "      <td>0.989850</td>\n",
       "      <td>0.986933</td>\n",
       "      <td>0.529403</td>\n",
       "      <td>0.938945</td>\n",
       "      <td>1.164262</td>\n",
       "      <td>0.925319</td>\n",
       "      <td>0.185753</td>\n",
       "    </tr>\n",
       "    <tr>\n",
       "      <th>min</th>\n",
       "      <td>19.000000</td>\n",
       "      <td>1.000000</td>\n",
       "      <td>0.000000</td>\n",
       "      <td>0.000000</td>\n",
       "      <td>20.000000</td>\n",
       "      <td>0.000000</td>\n",
       "      <td>1.000000</td>\n",
       "      <td>1.000000</td>\n",
       "      <td>1.000000</td>\n",
       "      <td>1.000000</td>\n",
       "      <td>-1.817600</td>\n",
       "      <td>-2.776200</td>\n",
       "      <td>1.000000</td>\n",
       "      <td>1.000000</td>\n",
       "      <td>5.000000</td>\n",
       "      <td>1.000000</td>\n",
       "      <td>0.000000</td>\n",
       "    </tr>\n",
       "    <tr>\n",
       "      <th>25%</th>\n",
       "      <td>27.000000</td>\n",
       "      <td>3.000000</td>\n",
       "      <td>5.000000</td>\n",
       "      <td>1.000000</td>\n",
       "      <td>33.000000</td>\n",
       "      <td>0.000000</td>\n",
       "      <td>2.000000</td>\n",
       "      <td>5.000000</td>\n",
       "      <td>1.000000</td>\n",
       "      <td>3.000000</td>\n",
       "      <td>-0.961200</td>\n",
       "      <td>-0.453700</td>\n",
       "      <td>2.000000</td>\n",
       "      <td>2.000000</td>\n",
       "      <td>6.000000</td>\n",
       "      <td>3.000000</td>\n",
       "      <td>0.070400</td>\n",
       "    </tr>\n",
       "    <tr>\n",
       "      <th>50%</th>\n",
       "      <td>37.000000</td>\n",
       "      <td>3.000000</td>\n",
       "      <td>10.000000</td>\n",
       "      <td>2.000000</td>\n",
       "      <td>47.000000</td>\n",
       "      <td>1.000000</td>\n",
       "      <td>3.000000</td>\n",
       "      <td>6.000000</td>\n",
       "      <td>2.000000</td>\n",
       "      <td>3.000000</td>\n",
       "      <td>-0.104800</td>\n",
       "      <td>-0.453700</td>\n",
       "      <td>2.000000</td>\n",
       "      <td>3.000000</td>\n",
       "      <td>7.000000</td>\n",
       "      <td>3.000000</td>\n",
       "      <td>0.142650</td>\n",
       "    </tr>\n",
       "    <tr>\n",
       "      <th>75%</th>\n",
       "      <td>52.000000</td>\n",
       "      <td>4.000000</td>\n",
       "      <td>21.000000</td>\n",
       "      <td>3.000000</td>\n",
       "      <td>61.000000</td>\n",
       "      <td>1.000000</td>\n",
       "      <td>3.000000</td>\n",
       "      <td>8.000000</td>\n",
       "      <td>3.000000</td>\n",
       "      <td>3.000000</td>\n",
       "      <td>0.751600</td>\n",
       "      <td>0.707500</td>\n",
       "      <td>2.000000</td>\n",
       "      <td>3.000000</td>\n",
       "      <td>8.000000</td>\n",
       "      <td>4.000000</td>\n",
       "      <td>0.235000</td>\n",
       "    </tr>\n",
       "    <tr>\n",
       "      <th>max</th>\n",
       "      <td>65.000000</td>\n",
       "      <td>5.000000</td>\n",
       "      <td>43.000000</td>\n",
       "      <td>4.000000</td>\n",
       "      <td>74.000000</td>\n",
       "      <td>2.000000</td>\n",
       "      <td>5.000000</td>\n",
       "      <td>10.000000</td>\n",
       "      <td>5.000000</td>\n",
       "      <td>5.000000</td>\n",
       "      <td>1.608100</td>\n",
       "      <td>1.868800</td>\n",
       "      <td>3.000000</td>\n",
       "      <td>5.000000</td>\n",
       "      <td>9.000000</td>\n",
       "      <td>5.000000</td>\n",
       "      <td>0.995900</td>\n",
       "    </tr>\n",
       "  </tbody>\n",
       "</table>\n",
       "</div>"
      ],
      "text/plain": [
       "               Age  Education_Level  Time_of_service  Time_since_promotion  \\\n",
       "count  6588.000000      7000.000000      6856.000000           7000.000000   \n",
       "mean     39.622799         3.187857        13.385064              2.367143   \n",
       "std      13.606920         1.065102        10.364188              1.149395   \n",
       "min      19.000000         1.000000         0.000000              0.000000   \n",
       "25%      27.000000         3.000000         5.000000              1.000000   \n",
       "50%      37.000000         3.000000        10.000000              2.000000   \n",
       "75%      52.000000         4.000000        21.000000              3.000000   \n",
       "max      65.000000         5.000000        43.000000              4.000000   \n",
       "\n",
       "       growth_rate  Travel_Rate   Post_Level    Pay_Scale  Work_Life_balance  \\\n",
       "count  7000.000000  7000.000000  7000.000000  6991.000000        6989.000000   \n",
       "mean     47.064286     0.817857     2.798000     6.006294           2.387895   \n",
       "std      15.761406     0.648205     1.163721     2.058435           1.122786   \n",
       "min      20.000000     0.000000     1.000000     1.000000           1.000000   \n",
       "25%      33.000000     0.000000     2.000000     5.000000           1.000000   \n",
       "50%      47.000000     1.000000     3.000000     6.000000           2.000000   \n",
       "75%      61.000000     1.000000     3.000000     8.000000           3.000000   \n",
       "max      74.000000     2.000000     5.000000    10.000000           5.000000   \n",
       "\n",
       "              VAR1         VAR2         VAR3         VAR4         VAR5  \\\n",
       "count  7000.000000  6423.000000  7000.000000  6344.000000  7000.000000   \n",
       "mean      3.098571    -0.008126    -0.013606     1.891078     2.834143   \n",
       "std       0.836377     0.989850     0.986933     0.529403     0.938945   \n",
       "min       1.000000    -1.817600    -2.776200     1.000000     1.000000   \n",
       "25%       3.000000    -0.961200    -0.453700     2.000000     2.000000   \n",
       "50%       3.000000    -0.104800    -0.453700     2.000000     3.000000   \n",
       "75%       3.000000     0.751600     0.707500     2.000000     3.000000   \n",
       "max       5.000000     1.608100     1.868800     3.000000     5.000000   \n",
       "\n",
       "              VAR6         VAR7  Attrition_rate  \n",
       "count  7000.000000  7000.000000     7000.000000  \n",
       "mean      7.101286     3.257000        0.189376  \n",
       "std       1.164262     0.925319        0.185753  \n",
       "min       5.000000     1.000000        0.000000  \n",
       "25%       6.000000     3.000000        0.070400  \n",
       "50%       7.000000     3.000000        0.142650  \n",
       "75%       8.000000     4.000000        0.235000  \n",
       "max       9.000000     5.000000        0.995900  "
      ]
     },
     "execution_count": 265,
     "metadata": {},
     "output_type": "execute_result"
    }
   ],
   "source": [
    "# Get some statistical summary on the data\n",
    "employees.describe()"
   ]
  },
  {
   "cell_type": "markdown",
   "metadata": {},
   "source": [
    "#### Observations:\n",
    "* There seems to be a good number of categorical variables in the data in numerical format\n",
    "\n",
    "\n",
    "* **Continuous variables:** Time_of_service, Time_since_promotion, growth_rate, VAR2, VAR3, \n",
    "\n",
    "\n",
    "* **Categorical variables:** Age, Education_Level, Travel_Rate, Post_Level, Pay_Scale, Work_Life_Balance, VAR1, VAR4, VAR5, VAR6, VAR7\n"
   ]
  },
  {
   "cell_type": "code",
   "execution_count": 266,
   "metadata": {},
   "outputs": [
    {
     "data": {
      "text/plain": [
       "Index(['Gender', 'Age', 'Education_Level', 'Relationship_Status', 'Hometown',\n",
       "       'Unit', 'Decision_skill_possess', 'Time_of_service',\n",
       "       'Time_since_promotion', 'growth_rate', 'Travel_Rate', 'Post_Level',\n",
       "       'Pay_Scale', 'Compensation_and_Benefits', 'Work_Life_balance', 'VAR1',\n",
       "       'VAR2', 'VAR3', 'VAR4', 'VAR5', 'VAR6', 'VAR7', 'Attrition_rate'],\n",
       "      dtype='object')"
      ]
     },
     "execution_count": 266,
     "metadata": {},
     "output_type": "execute_result"
    }
   ],
   "source": [
    "employees.columns"
   ]
  },
  {
   "cell_type": "markdown",
   "metadata": {},
   "source": [
    "#### Create imputers for the null values and combine them with the column transformer"
   ]
  },
  {
   "cell_type": "code",
   "execution_count": 267,
   "metadata": {},
   "outputs": [],
   "source": [
    "# Impute the null values\n",
    "from sklearn.impute import SimpleImputer\n",
    "from sklearn.compose import ColumnTransformer\n",
    "from sklearn.compose import make_column_transformer\n",
    "\n",
    "\n",
    "continuous_imputer= SimpleImputer(strategy='median')\n",
    "categorical_imputer = SimpleImputer(strategy='most_frequent')\n",
    "\n",
    "continuous_cols = [\"Age\", \"Time_of_service\", \"Time_since_promotion\", \"growth_rate\", \"VAR2\", \"VAR3\"]\n",
    "categorical_cols = [\"Gender\", \"Education_Level\", \"Relationship_Status\", \"Hometown\", \"Unit\", \"Decision_skill_possess\", \"Travel_Rate\", \"Post_Level\", \"Compensation_and_Benefits\", \"Pay_Scale\", \"Work_Life_balance\", \"VAR1\", \"VAR4\", \"VAR5\", \"VAR6\", \"VAR7\"]\n",
    "\n",
    "impute_transformer = ColumnTransformer([(\"continuous_imputer\", continuous_imputer, continuous_cols),\n",
    "                                        (\"categorical_imputer\", categorical_imputer, categorical_cols)], remainder='passthrough', verbose=True)"
   ]
  },
  {
   "cell_type": "code",
   "execution_count": 268,
   "metadata": {},
   "outputs": [
    {
     "data": {
      "text/plain": [
       "['Gender',\n",
       " 'Education_Level',\n",
       " 'Relationship_Status',\n",
       " 'Hometown',\n",
       " 'Unit',\n",
       " 'Decision_skill_possess',\n",
       " 'Travel_Rate',\n",
       " 'Post_Level',\n",
       " 'Compensation_and_Benefits',\n",
       " 'Pay_Scale',\n",
       " 'Work_Life_balance',\n",
       " 'VAR1',\n",
       " 'VAR4',\n",
       " 'VAR5',\n",
       " 'VAR6',\n",
       " 'VAR7']"
      ]
     },
     "execution_count": 268,
     "metadata": {},
     "output_type": "execute_result"
    }
   ],
   "source": [
    "categorical_cols"
   ]
  },
  {
   "cell_type": "markdown",
   "metadata": {},
   "source": [
    "#### Exploratory Data Analysis"
   ]
  },
  {
   "cell_type": "code",
   "execution_count": 269,
   "metadata": {},
   "outputs": [
    {
     "name": "stderr",
     "output_type": "stream",
     "text": [
      "C:\\Users\\Kelvin Kinda\\Anaconda3\\lib\\site-packages\\IPython\\core\\interactiveshell.py:2910: UserWarning: To output multiple subplots, the figure containing the passed axes is being cleared\n",
      "  exec(code_obj, self.user_global_ns, self.user_ns)\n"
     ]
    },
    {
     "data": {
      "text/plain": [
       "array([[<matplotlib.axes._subplots.AxesSubplot object at 0x000001D04E496E10>,\n",
       "        <matplotlib.axes._subplots.AxesSubplot object at 0x000001D0503A9438>,\n",
       "        <matplotlib.axes._subplots.AxesSubplot object at 0x000001D0503E3518>,\n",
       "        <matplotlib.axes._subplots.AxesSubplot object at 0x000001D05040C7F0>],\n",
       "       [<matplotlib.axes._subplots.AxesSubplot object at 0x000001D050441BE0>,\n",
       "        <matplotlib.axes._subplots.AxesSubplot object at 0x000001D050441C18>,\n",
       "        <matplotlib.axes._subplots.AxesSubplot object at 0x000001D0504BB240>,\n",
       "        <matplotlib.axes._subplots.AxesSubplot object at 0x000001D0504DE160>],\n",
       "       [<matplotlib.axes._subplots.AxesSubplot object at 0x000001D05051A780>,\n",
       "        <matplotlib.axes._subplots.AxesSubplot object at 0x000001D0505507F0>,\n",
       "        <matplotlib.axes._subplots.AxesSubplot object at 0x000001D0505898D0>,\n",
       "        <matplotlib.axes._subplots.AxesSubplot object at 0x000001D0505BFB70>],\n",
       "       [<matplotlib.axes._subplots.AxesSubplot object at 0x000001D0505ED400>,\n",
       "        <matplotlib.axes._subplots.AxesSubplot object at 0x000001D05062C4E0>,\n",
       "        <matplotlib.axes._subplots.AxesSubplot object at 0x000001D050662550>,\n",
       "        <matplotlib.axes._subplots.AxesSubplot object at 0x000001D05069D630>],\n",
       "       [<matplotlib.axes._subplots.AxesSubplot object at 0x000001D0506D2780>,\n",
       "        <matplotlib.axes._subplots.AxesSubplot object at 0x000001D0507040F0>,\n",
       "        <matplotlib.axes._subplots.AxesSubplot object at 0x000001D05073C160>,\n",
       "        <matplotlib.axes._subplots.AxesSubplot object at 0x000001D050773400>]],\n",
       "      dtype=object)"
      ]
     },
     "execution_count": 269,
     "metadata": {},
     "output_type": "execute_result"
    },
    {
     "data": {
      "image/png": "[encoded data removed]",
      "text/plain": [
       "<matplotlib.figure.Figure at 0x1d04e16e630>"
      ]
     },
     "metadata": {},
     "output_type": "display_data"
    }
   ],
   "source": [
    "# Check the distribution of the data\n",
    "fig, ax = plt.subplots(figsize=(18,14))\n",
    "employees.hist(ax=ax)"
   ]
  },
  {
   "cell_type": "code",
   "execution_count": 270,
   "metadata": {},
   "outputs": [
    {
     "data": {
      "text/plain": [
       "<matplotlib.axes._subplots.AxesSubplot at 0x1d050fcdda0>"
      ]
     },
     "execution_count": 270,
     "metadata": {},
     "output_type": "execute_result"
    },
    {
     "data": {
      "image/png": "[encoded data removed]",
      "text/plain": [
       "<matplotlib.figure.Figure at 0x1d0505e6d30>"
      ]
     },
     "metadata": {},
     "output_type": "display_data"
    }
   ],
   "source": [
    "# Check for outliers in Time_of_service and Pay_Scale\n",
    "sns.boxplot(y='Time_of_service', data=employees)"
   ]
  },
  {
   "cell_type": "code",
   "execution_count": 271,
   "metadata": {},
   "outputs": [
    {
     "data": {
      "text/plain": [
       "<matplotlib.axes._subplots.AxesSubplot at 0x1d050f9d048>"
      ]
     },
     "execution_count": 271,
     "metadata": {},
     "output_type": "execute_result"
    },
    {
     "data": {
      "image/png": "[encoded data removed]",
      "text/plain": [
       "<matplotlib.figure.Figure at 0x1d050f42a90>"
      ]
     },
     "metadata": {},
     "output_type": "display_data"
    }
   ],
   "source": [
    "sns.boxplot(y='Pay_Scale', data=employees)"
   ]
  },
  {
   "cell_type": "markdown",
   "metadata": {},
   "source": [
    "#### Observations:\n",
    "* Both features have no outliers"
   ]
  },
  {
   "cell_type": "markdown",
   "metadata": {},
   "source": [
    "#### Check for a relationship between the features and the target (Attrition_Rate)"
   ]
  },
  {
   "cell_type": "code",
   "execution_count": 272,
   "metadata": {},
   "outputs": [
    {
     "data": {
      "application/vnd.jupyter.widget-view+json": {
       "model_id": "1d29ae022ef548b4a0ce2862469b32ef",
       "version_major": 2,
       "version_minor": 0
      },
      "text/html": [
       "<p>Failed to display Jupyter Widget of type <code>interactive</code>.</p>\n",
       "<p>\n",
       "  If you're reading this message in the Jupyter Notebook or JupyterLab Notebook, it may mean\n",
       "  that the widgets JavaScript is still loading. If this message persists, it\n",
       "  likely means that the widgets JavaScript library is either not installed or\n",
       "  not enabled. See the <a href=\"https://ipywidgets.readthedocs.io/en/stable/user_install.html\">Jupyter\n",
       "  Widgets Documentation</a> for setup instructions.\n",
       "</p>\n",
       "<p>\n",
       "  If you're reading this message in another frontend (for example, a static\n",
       "  rendering on GitHub or <a href=\"https://nbviewer.jupyter.org/\">NBViewer</a>),\n",
       "  it may mean that your frontend doesn't currently support widgets.\n",
       "</p>\n"
      ],
      "text/plain": [
       "interactive(children=(Dropdown(description='feature', options={'Age': 'Age', 'Time_of_service': 'Time_of_service', 'Time_since_promotion': 'Time_since_promotion', 'growth_rate': 'growth_rate', 'VAR2': 'VAR2', 'VAR3': 'VAR3'}, value='Age'), Output()), _dom_classes=('widget-interact',))"
      ]
     },
     "metadata": {},
     "output_type": "display_data"
    },
    {
     "data": {
      "text/plain": [
       "<function __main__.plot_feature>"
      ]
     },
     "execution_count": 272,
     "metadata": {},
     "output_type": "execute_result"
    }
   ],
   "source": [
    "from ipywidgets import widgets\n",
    "\n",
    "def plot_feature(feature):\n",
    "    employees.plot(kind=\"scatter\", x=feature, y='Attrition_rate', alpha=0.4)\n",
    "\n",
    "cols  = {col : col for col in employees[continuous_cols].columns}\n",
    "\n",
    "widgets.interact(plot_feature, feature=cols)"
   ]
  },
  {
   "cell_type": "markdown",
   "metadata": {},
   "source": [
    "#### Observations:\n",
    "* The doesn't seem to be any direct relationship between the continuous features and the target"
   ]
  },
  {
   "cell_type": "markdown",
   "metadata": {},
   "source": [
    "#### Continue with data processing and checking the relationships of the data. feature to target and featire to feature. Ensure you have a good understanding of what data type each column falls into for better analysis and processing"
   ]
  },
  {
   "cell_type": "code",
   "execution_count": 273,
   "metadata": {},
   "outputs": [
    {
     "data": {
      "text/plain": [
       "Attrition_rate          1.000000\n",
       "Work_Life_balance       0.020746\n",
       "Post_Level              0.016402\n",
       "growth_rate             0.014247\n",
       "Time_since_promotion    0.013880\n",
       "VAR3                    0.001245\n",
       "VAR6                   -0.003130\n",
       "VAR5                   -0.004770\n",
       "VAR1                   -0.008073\n",
       "Education_Level        -0.008143\n",
       "Travel_Rate            -0.012608\n",
       "VAR4                   -0.013120\n",
       "Pay_Scale              -0.015236\n",
       "VAR7                   -0.015299\n",
       "Age                    -0.015498\n",
       "Time_of_service        -0.016447\n",
       "VAR2                   -0.023991\n",
       "Name: Attrition_rate, dtype: float64"
      ]
     },
     "execution_count": 273,
     "metadata": {},
     "output_type": "execute_result"
    }
   ],
   "source": [
    "employees.corr()['Attrition_rate'].sort_values(ascending=False)"
   ]
  },
  {
   "cell_type": "markdown",
   "metadata": {},
   "source": [
    "#### Observation:\n",
    "* There's minimal linear correlation between the between the features and the target"
   ]
  },
  {
   "cell_type": "markdown",
   "metadata": {},
   "source": [
    "#### Check how features correlate to each other"
   ]
  },
  {
   "cell_type": "code",
   "execution_count": 274,
   "metadata": {},
   "outputs": [
    {
     "data": {
      "text/html": [
       "<div>\n",
       "<style scoped>\n",
       "    .dataframe tbody tr th:only-of-type {\n",
       "        vertical-align: middle;\n",
       "    }\n",
       "\n",
       "    .dataframe tbody tr th {\n",
       "        vertical-align: top;\n",
       "    }\n",
       "\n",
       "    .dataframe thead th {\n",
       "        text-align: right;\n",
       "    }\n",
       "</style>\n",
       "<table border=\"1\" class=\"dataframe\">\n",
       "  <thead>\n",
       "    <tr style=\"text-align: right;\">\n",
       "      <th></th>\n",
       "      <th>Age</th>\n",
       "      <th>Education_Level</th>\n",
       "      <th>Time_of_service</th>\n",
       "      <th>Time_since_promotion</th>\n",
       "      <th>growth_rate</th>\n",
       "      <th>Travel_Rate</th>\n",
       "      <th>Post_Level</th>\n",
       "      <th>Pay_Scale</th>\n",
       "      <th>Work_Life_balance</th>\n",
       "      <th>VAR1</th>\n",
       "      <th>VAR2</th>\n",
       "      <th>VAR3</th>\n",
       "      <th>VAR4</th>\n",
       "      <th>VAR5</th>\n",
       "      <th>VAR6</th>\n",
       "      <th>VAR7</th>\n",
       "      <th>Attrition_rate</th>\n",
       "    </tr>\n",
       "  </thead>\n",
       "  <tbody>\n",
       "    <tr>\n",
       "      <th>Age</th>\n",
       "      <td>1.000000</td>\n",
       "      <td>-0.005770</td>\n",
       "      <td>0.918853</td>\n",
       "      <td>0.145760</td>\n",
       "      <td>0.001270</td>\n",
       "      <td>0.012266</td>\n",
       "      <td>0.002440</td>\n",
       "      <td>0.012966</td>\n",
       "      <td>0.003073</td>\n",
       "      <td>0.005696</td>\n",
       "      <td>0.005406</td>\n",
       "      <td>0.007569</td>\n",
       "      <td>0.001803</td>\n",
       "      <td>0.000015</td>\n",
       "      <td>-0.000832</td>\n",
       "      <td>0.008746</td>\n",
       "      <td>-0.015498</td>\n",
       "    </tr>\n",
       "    <tr>\n",
       "      <th>Education_Level</th>\n",
       "      <td>-0.005770</td>\n",
       "      <td>1.000000</td>\n",
       "      <td>-0.012793</td>\n",
       "      <td>-0.002077</td>\n",
       "      <td>0.002991</td>\n",
       "      <td>-0.017690</td>\n",
       "      <td>0.009986</td>\n",
       "      <td>0.006834</td>\n",
       "      <td>-0.015262</td>\n",
       "      <td>-0.002185</td>\n",
       "      <td>-0.010312</td>\n",
       "      <td>-0.009689</td>\n",
       "      <td>0.004500</td>\n",
       "      <td>0.005444</td>\n",
       "      <td>0.009195</td>\n",
       "      <td>0.012909</td>\n",
       "      <td>-0.008143</td>\n",
       "    </tr>\n",
       "    <tr>\n",
       "      <th>Time_of_service</th>\n",
       "      <td>0.918853</td>\n",
       "      <td>-0.012793</td>\n",
       "      <td>1.000000</td>\n",
       "      <td>0.137014</td>\n",
       "      <td>-0.003486</td>\n",
       "      <td>0.004843</td>\n",
       "      <td>-0.002286</td>\n",
       "      <td>0.020347</td>\n",
       "      <td>-0.002557</td>\n",
       "      <td>0.004757</td>\n",
       "      <td>0.003858</td>\n",
       "      <td>0.006863</td>\n",
       "      <td>-0.006024</td>\n",
       "      <td>0.003194</td>\n",
       "      <td>0.007618</td>\n",
       "      <td>0.007034</td>\n",
       "      <td>-0.016447</td>\n",
       "    </tr>\n",
       "    <tr>\n",
       "      <th>Time_since_promotion</th>\n",
       "      <td>0.145760</td>\n",
       "      <td>-0.002077</td>\n",
       "      <td>0.137014</td>\n",
       "      <td>1.000000</td>\n",
       "      <td>0.014147</td>\n",
       "      <td>-0.012061</td>\n",
       "      <td>-0.008851</td>\n",
       "      <td>-0.008901</td>\n",
       "      <td>-0.007423</td>\n",
       "      <td>-0.002873</td>\n",
       "      <td>0.004211</td>\n",
       "      <td>-0.002783</td>\n",
       "      <td>-0.003724</td>\n",
       "      <td>0.000563</td>\n",
       "      <td>0.017264</td>\n",
       "      <td>0.005173</td>\n",
       "      <td>0.013880</td>\n",
       "    </tr>\n",
       "    <tr>\n",
       "      <th>growth_rate</th>\n",
       "      <td>0.001270</td>\n",
       "      <td>0.002991</td>\n",
       "      <td>-0.003486</td>\n",
       "      <td>0.014147</td>\n",
       "      <td>1.000000</td>\n",
       "      <td>0.008460</td>\n",
       "      <td>-0.006887</td>\n",
       "      <td>-0.004145</td>\n",
       "      <td>-0.018324</td>\n",
       "      <td>0.001351</td>\n",
       "      <td>0.010883</td>\n",
       "      <td>0.010991</td>\n",
       "      <td>0.021336</td>\n",
       "      <td>-0.015122</td>\n",
       "      <td>-0.005860</td>\n",
       "      <td>-0.017993</td>\n",
       "      <td>0.014247</td>\n",
       "    </tr>\n",
       "    <tr>\n",
       "      <th>Travel_Rate</th>\n",
       "      <td>0.012266</td>\n",
       "      <td>-0.017690</td>\n",
       "      <td>0.004843</td>\n",
       "      <td>-0.012061</td>\n",
       "      <td>0.008460</td>\n",
       "      <td>1.000000</td>\n",
       "      <td>0.021299</td>\n",
       "      <td>-0.011689</td>\n",
       "      <td>0.004132</td>\n",
       "      <td>0.023898</td>\n",
       "      <td>0.008374</td>\n",
       "      <td>-0.009019</td>\n",
       "      <td>-0.005933</td>\n",
       "      <td>-0.003866</td>\n",
       "      <td>-0.012280</td>\n",
       "      <td>-0.006271</td>\n",
       "      <td>-0.012608</td>\n",
       "    </tr>\n",
       "    <tr>\n",
       "      <th>Post_Level</th>\n",
       "      <td>0.002440</td>\n",
       "      <td>0.009986</td>\n",
       "      <td>-0.002286</td>\n",
       "      <td>-0.008851</td>\n",
       "      <td>-0.006887</td>\n",
       "      <td>0.021299</td>\n",
       "      <td>1.000000</td>\n",
       "      <td>0.022389</td>\n",
       "      <td>-0.014473</td>\n",
       "      <td>-0.008458</td>\n",
       "      <td>-0.007043</td>\n",
       "      <td>0.010387</td>\n",
       "      <td>-0.012778</td>\n",
       "      <td>0.013008</td>\n",
       "      <td>0.002765</td>\n",
       "      <td>-0.003397</td>\n",
       "      <td>0.016402</td>\n",
       "    </tr>\n",
       "    <tr>\n",
       "      <th>Pay_Scale</th>\n",
       "      <td>0.012966</td>\n",
       "      <td>0.006834</td>\n",
       "      <td>0.020347</td>\n",
       "      <td>-0.008901</td>\n",
       "      <td>-0.004145</td>\n",
       "      <td>-0.011689</td>\n",
       "      <td>0.022389</td>\n",
       "      <td>1.000000</td>\n",
       "      <td>-0.022742</td>\n",
       "      <td>0.011354</td>\n",
       "      <td>0.006296</td>\n",
       "      <td>0.003380</td>\n",
       "      <td>-0.010286</td>\n",
       "      <td>0.018080</td>\n",
       "      <td>-0.012318</td>\n",
       "      <td>0.002381</td>\n",
       "      <td>-0.015236</td>\n",
       "    </tr>\n",
       "    <tr>\n",
       "      <th>Work_Life_balance</th>\n",
       "      <td>0.003073</td>\n",
       "      <td>-0.015262</td>\n",
       "      <td>-0.002557</td>\n",
       "      <td>-0.007423</td>\n",
       "      <td>-0.018324</td>\n",
       "      <td>0.004132</td>\n",
       "      <td>-0.014473</td>\n",
       "      <td>-0.022742</td>\n",
       "      <td>1.000000</td>\n",
       "      <td>-0.022030</td>\n",
       "      <td>-0.001492</td>\n",
       "      <td>0.004476</td>\n",
       "      <td>-0.026753</td>\n",
       "      <td>0.022196</td>\n",
       "      <td>0.003871</td>\n",
       "      <td>0.024534</td>\n",
       "      <td>0.020746</td>\n",
       "    </tr>\n",
       "    <tr>\n",
       "      <th>VAR1</th>\n",
       "      <td>0.005696</td>\n",
       "      <td>-0.002185</td>\n",
       "      <td>0.004757</td>\n",
       "      <td>-0.002873</td>\n",
       "      <td>0.001351</td>\n",
       "      <td>0.023898</td>\n",
       "      <td>-0.008458</td>\n",
       "      <td>0.011354</td>\n",
       "      <td>-0.022030</td>\n",
       "      <td>1.000000</td>\n",
       "      <td>0.002260</td>\n",
       "      <td>-0.003318</td>\n",
       "      <td>0.002112</td>\n",
       "      <td>0.007904</td>\n",
       "      <td>-0.002771</td>\n",
       "      <td>0.009355</td>\n",
       "      <td>-0.008073</td>\n",
       "    </tr>\n",
       "    <tr>\n",
       "      <th>VAR2</th>\n",
       "      <td>0.005406</td>\n",
       "      <td>-0.010312</td>\n",
       "      <td>0.003858</td>\n",
       "      <td>0.004211</td>\n",
       "      <td>0.010883</td>\n",
       "      <td>0.008374</td>\n",
       "      <td>-0.007043</td>\n",
       "      <td>0.006296</td>\n",
       "      <td>-0.001492</td>\n",
       "      <td>0.002260</td>\n",
       "      <td>1.000000</td>\n",
       "      <td>0.012105</td>\n",
       "      <td>0.012612</td>\n",
       "      <td>0.001781</td>\n",
       "      <td>0.004470</td>\n",
       "      <td>0.003003</td>\n",
       "      <td>-0.023991</td>\n",
       "    </tr>\n",
       "    <tr>\n",
       "      <th>VAR3</th>\n",
       "      <td>0.007569</td>\n",
       "      <td>-0.009689</td>\n",
       "      <td>0.006863</td>\n",
       "      <td>-0.002783</td>\n",
       "      <td>0.010991</td>\n",
       "      <td>-0.009019</td>\n",
       "      <td>0.010387</td>\n",
       "      <td>0.003380</td>\n",
       "      <td>0.004476</td>\n",
       "      <td>-0.003318</td>\n",
       "      <td>0.012105</td>\n",
       "      <td>1.000000</td>\n",
       "      <td>-0.008279</td>\n",
       "      <td>-0.003399</td>\n",
       "      <td>0.005096</td>\n",
       "      <td>0.008390</td>\n",
       "      <td>0.001245</td>\n",
       "    </tr>\n",
       "    <tr>\n",
       "      <th>VAR4</th>\n",
       "      <td>0.001803</td>\n",
       "      <td>0.004500</td>\n",
       "      <td>-0.006024</td>\n",
       "      <td>-0.003724</td>\n",
       "      <td>0.021336</td>\n",
       "      <td>-0.005933</td>\n",
       "      <td>-0.012778</td>\n",
       "      <td>-0.010286</td>\n",
       "      <td>-0.026753</td>\n",
       "      <td>0.002112</td>\n",
       "      <td>0.012612</td>\n",
       "      <td>-0.008279</td>\n",
       "      <td>1.000000</td>\n",
       "      <td>-0.004111</td>\n",
       "      <td>0.003484</td>\n",
       "      <td>-0.018423</td>\n",
       "      <td>-0.013120</td>\n",
       "    </tr>\n",
       "    <tr>\n",
       "      <th>VAR5</th>\n",
       "      <td>0.000015</td>\n",
       "      <td>0.005444</td>\n",
       "      <td>0.003194</td>\n",
       "      <td>0.000563</td>\n",
       "      <td>-0.015122</td>\n",
       "      <td>-0.003866</td>\n",
       "      <td>0.013008</td>\n",
       "      <td>0.018080</td>\n",
       "      <td>0.022196</td>\n",
       "      <td>0.007904</td>\n",
       "      <td>0.001781</td>\n",
       "      <td>-0.003399</td>\n",
       "      <td>-0.004111</td>\n",
       "      <td>1.000000</td>\n",
       "      <td>-0.005412</td>\n",
       "      <td>0.009436</td>\n",
       "      <td>-0.004770</td>\n",
       "    </tr>\n",
       "    <tr>\n",
       "      <th>VAR6</th>\n",
       "      <td>-0.000832</td>\n",
       "      <td>0.009195</td>\n",
       "      <td>0.007618</td>\n",
       "      <td>0.017264</td>\n",
       "      <td>-0.005860</td>\n",
       "      <td>-0.012280</td>\n",
       "      <td>0.002765</td>\n",
       "      <td>-0.012318</td>\n",
       "      <td>0.003871</td>\n",
       "      <td>-0.002771</td>\n",
       "      <td>0.004470</td>\n",
       "      <td>0.005096</td>\n",
       "      <td>0.003484</td>\n",
       "      <td>-0.005412</td>\n",
       "      <td>1.000000</td>\n",
       "      <td>0.011908</td>\n",
       "      <td>-0.003130</td>\n",
       "    </tr>\n",
       "    <tr>\n",
       "      <th>VAR7</th>\n",
       "      <td>0.008746</td>\n",
       "      <td>0.012909</td>\n",
       "      <td>0.007034</td>\n",
       "      <td>0.005173</td>\n",
       "      <td>-0.017993</td>\n",
       "      <td>-0.006271</td>\n",
       "      <td>-0.003397</td>\n",
       "      <td>0.002381</td>\n",
       "      <td>0.024534</td>\n",
       "      <td>0.009355</td>\n",
       "      <td>0.003003</td>\n",
       "      <td>0.008390</td>\n",
       "      <td>-0.018423</td>\n",
       "      <td>0.009436</td>\n",
       "      <td>0.011908</td>\n",
       "      <td>1.000000</td>\n",
       "      <td>-0.015299</td>\n",
       "    </tr>\n",
       "    <tr>\n",
       "      <th>Attrition_rate</th>\n",
       "      <td>-0.015498</td>\n",
       "      <td>-0.008143</td>\n",
       "      <td>-0.016447</td>\n",
       "      <td>0.013880</td>\n",
       "      <td>0.014247</td>\n",
       "      <td>-0.012608</td>\n",
       "      <td>0.016402</td>\n",
       "      <td>-0.015236</td>\n",
       "      <td>0.020746</td>\n",
       "      <td>-0.008073</td>\n",
       "      <td>-0.023991</td>\n",
       "      <td>0.001245</td>\n",
       "      <td>-0.013120</td>\n",
       "      <td>-0.004770</td>\n",
       "      <td>-0.003130</td>\n",
       "      <td>-0.015299</td>\n",
       "      <td>1.000000</td>\n",
       "    </tr>\n",
       "  </tbody>\n",
       "</table>\n",
       "</div>"
      ],
      "text/plain": [
       "                           Age  Education_Level  Time_of_service  \\\n",
       "Age                   1.000000        -0.005770         0.918853   \n",
       "Education_Level      -0.005770         1.000000        -0.012793   \n",
       "Time_of_service       0.918853        -0.012793         1.000000   \n",
       "Time_since_promotion  0.145760        -0.002077         0.137014   \n",
       "growth_rate           0.001270         0.002991        -0.003486   \n",
       "Travel_Rate           0.012266        -0.017690         0.004843   \n",
       "Post_Level            0.002440         0.009986        -0.002286   \n",
       "Pay_Scale             0.012966         0.006834         0.020347   \n",
       "Work_Life_balance     0.003073        -0.015262        -0.002557   \n",
       "VAR1                  0.005696        -0.002185         0.004757   \n",
       "VAR2                  0.005406        -0.010312         0.003858   \n",
       "VAR3                  0.007569        -0.009689         0.006863   \n",
       "VAR4                  0.001803         0.004500        -0.006024   \n",
       "VAR5                  0.000015         0.005444         0.003194   \n",
       "VAR6                 -0.000832         0.009195         0.007618   \n",
       "VAR7                  0.008746         0.012909         0.007034   \n",
       "Attrition_rate       -0.015498        -0.008143        -0.016447   \n",
       "\n",
       "                      Time_since_promotion  growth_rate  Travel_Rate  \\\n",
       "Age                               0.145760     0.001270     0.012266   \n",
       "Education_Level                  -0.002077     0.002991    -0.017690   \n",
       "Time_of_service                   0.137014    -0.003486     0.004843   \n",
       "Time_since_promotion              1.000000     0.014147    -0.012061   \n",
       "growth_rate                       0.014147     1.000000     0.008460   \n",
       "Travel_Rate                      -0.012061     0.008460     1.000000   \n",
       "Post_Level                       -0.008851    -0.006887     0.021299   \n",
       "Pay_Scale                        -0.008901    -0.004145    -0.011689   \n",
       "Work_Life_balance                -0.007423    -0.018324     0.004132   \n",
       "VAR1                             -0.002873     0.001351     0.023898   \n",
       "VAR2                              0.004211     0.010883     0.008374   \n",
       "VAR3                             -0.002783     0.010991    -0.009019   \n",
       "VAR4                             -0.003724     0.021336    -0.005933   \n",
       "VAR5                              0.000563    -0.015122    -0.003866   \n",
       "VAR6                              0.017264    -0.005860    -0.012280   \n",
       "VAR7                              0.005173    -0.017993    -0.006271   \n",
       "Attrition_rate                    0.013880     0.014247    -0.012608   \n",
       "\n",
       "                      Post_Level  Pay_Scale  Work_Life_balance      VAR1  \\\n",
       "Age                     0.002440   0.012966           0.003073  0.005696   \n",
       "Education_Level         0.009986   0.006834          -0.015262 -0.002185   \n",
       "Time_of_service        -0.002286   0.020347          -0.002557  0.004757   \n",
       "Time_since_promotion   -0.008851  -0.008901          -0.007423 -0.002873   \n",
       "growth_rate            -0.006887  -0.004145          -0.018324  0.001351   \n",
       "Travel_Rate             0.021299  -0.011689           0.004132  0.023898   \n",
       "Post_Level              1.000000   0.022389          -0.014473 -0.008458   \n",
       "Pay_Scale               0.022389   1.000000          -0.022742  0.011354   \n",
       "Work_Life_balance      -0.014473  -0.022742           1.000000 -0.022030   \n",
       "VAR1                   -0.008458   0.011354          -0.022030  1.000000   \n",
       "VAR2                   -0.007043   0.006296          -0.001492  0.002260   \n",
       "VAR3                    0.010387   0.003380           0.004476 -0.003318   \n",
       "VAR4                   -0.012778  -0.010286          -0.026753  0.002112   \n",
       "VAR5                    0.013008   0.018080           0.022196  0.007904   \n",
       "VAR6                    0.002765  -0.012318           0.003871 -0.002771   \n",
       "VAR7                   -0.003397   0.002381           0.024534  0.009355   \n",
       "Attrition_rate          0.016402  -0.015236           0.020746 -0.008073   \n",
       "\n",
       "                          VAR2      VAR3      VAR4      VAR5      VAR6  \\\n",
       "Age                   0.005406  0.007569  0.001803  0.000015 -0.000832   \n",
       "Education_Level      -0.010312 -0.009689  0.004500  0.005444  0.009195   \n",
       "Time_of_service       0.003858  0.006863 -0.006024  0.003194  0.007618   \n",
       "Time_since_promotion  0.004211 -0.002783 -0.003724  0.000563  0.017264   \n",
       "growth_rate           0.010883  0.010991  0.021336 -0.015122 -0.005860   \n",
       "Travel_Rate           0.008374 -0.009019 -0.005933 -0.003866 -0.012280   \n",
       "Post_Level           -0.007043  0.010387 -0.012778  0.013008  0.002765   \n",
       "Pay_Scale             0.006296  0.003380 -0.010286  0.018080 -0.012318   \n",
       "Work_Life_balance    -0.001492  0.004476 -0.026753  0.022196  0.003871   \n",
       "VAR1                  0.002260 -0.003318  0.002112  0.007904 -0.002771   \n",
       "VAR2                  1.000000  0.012105  0.012612  0.001781  0.004470   \n",
       "VAR3                  0.012105  1.000000 -0.008279 -0.003399  0.005096   \n",
       "VAR4                  0.012612 -0.008279  1.000000 -0.004111  0.003484   \n",
       "VAR5                  0.001781 -0.003399 -0.004111  1.000000 -0.005412   \n",
       "VAR6                  0.004470  0.005096  0.003484 -0.005412  1.000000   \n",
       "VAR7                  0.003003  0.008390 -0.018423  0.009436  0.011908   \n",
       "Attrition_rate       -0.023991  0.001245 -0.013120 -0.004770 -0.003130   \n",
       "\n",
       "                          VAR7  Attrition_rate  \n",
       "Age                   0.008746       -0.015498  \n",
       "Education_Level       0.012909       -0.008143  \n",
       "Time_of_service       0.007034       -0.016447  \n",
       "Time_since_promotion  0.005173        0.013880  \n",
       "growth_rate          -0.017993        0.014247  \n",
       "Travel_Rate          -0.006271       -0.012608  \n",
       "Post_Level           -0.003397        0.016402  \n",
       "Pay_Scale             0.002381       -0.015236  \n",
       "Work_Life_balance     0.024534        0.020746  \n",
       "VAR1                  0.009355       -0.008073  \n",
       "VAR2                  0.003003       -0.023991  \n",
       "VAR3                  0.008390        0.001245  \n",
       "VAR4                 -0.018423       -0.013120  \n",
       "VAR5                  0.009436       -0.004770  \n",
       "VAR6                  0.011908       -0.003130  \n",
       "VAR7                  1.000000       -0.015299  \n",
       "Attrition_rate       -0.015299        1.000000  "
      ]
     },
     "execution_count": 274,
     "metadata": {},
     "output_type": "execute_result"
    }
   ],
   "source": [
    "employees.corr()"
   ]
  },
  {
   "cell_type": "markdown",
   "metadata": {},
   "source": [
    "#### Observations:\n",
    "* Age and Time of service have a very high correlation of 0.9. Assumption is that older employees have worked in the company for a longer period. Also implies that most hires are younger people\n",
    "\n",
    "* Growth_rate has a weak +ve correlation with VAR4\n",
    "\n",
    "* Travel rate has a weak +ve correlation with VAR1 Post_level\n",
    "\n",
    "* Post level has a weak +ve correlation with Pay scale\n",
    "\n",
    "* Post level has a weak -ve correlation with Worl life balance\n"
   ]
  },
  {
   "cell_type": "markdown",
   "metadata": {},
   "source": [
    "### Feature Engineering"
   ]
  },
  {
   "cell_type": "markdown",
   "metadata": {},
   "source": [
    "#### Encode categorical variables"
   ]
  },
  {
   "cell_type": "code",
   "execution_count": 275,
   "metadata": {},
   "outputs": [],
   "source": [
    "from sklearn.preprocessing import OneHotEncoder\n",
    "\n",
    "cat_cols = [\"Gender\", \"Relationship_Status\", \"Hometown\", \"Unit\", \"Decision_skill_possess\", \"Compensation_and_Benefits\"]\n",
    "\n",
    "onehot_enc = OneHotEncoder(sparse=False, categories='auto')\n",
    "\n",
    "encoder_transform = ColumnTransformer([(\"onehot_enc\", onehot_enc, cat_cols)])"
   ]
  },
  {
   "cell_type": "markdown",
   "metadata": {},
   "source": [
    "### Build the Models"
   ]
  },
  {
   "cell_type": "markdown",
   "metadata": {},
   "source": [
    "#### Split the data into train and test"
   ]
  },
  {
   "cell_type": "code",
   "execution_count": 276,
   "metadata": {},
   "outputs": [],
   "source": [
    "from sklearn.model_selection import train_test_split\n",
    "\n",
    "X = employees.drop([\"Attrition_rate\"], axis=1)\n",
    "y = employees[\"Attrition_rate\"]\n",
    "\n",
    "X_train, X_test, y_train, y_test = train_test_split(X, y, test_size=0.2, random_state=0)"
   ]
  },
  {
   "cell_type": "code",
   "execution_count": 277,
   "metadata": {},
   "outputs": [
    {
     "data": {
      "text/plain": [
       "((5600, 22), (1400, 22), (5600,), (1400,))"
      ]
     },
     "execution_count": 277,
     "metadata": {},
     "output_type": "execute_result"
    }
   ],
   "source": [
    "X_train.shape, X_test.shape, y_train.shape, y_test.shape"
   ]
  },
  {
   "cell_type": "markdown",
   "metadata": {},
   "source": [
    "#### Build a pipeline with the tranformations"
   ]
  },
  {
   "cell_type": "code",
   "execution_count": 278,
   "metadata": {},
   "outputs": [],
   "source": [
    "from sklearn.pipeline import Pipeline\n",
    "\n",
    "pipe_transform = Pipeline([(\"impute_transformer\", impute_transformer), (\"onehot_enc\", onehot_enc)])"
   ]
  },
  {
   "cell_type": "code",
   "execution_count": 279,
   "metadata": {},
   "outputs": [],
   "source": [
    "from sklearn.linear_model import LinearRegression\n",
    "from sklearn.linear_model import Ridge\n",
    "from sklearn.tree import DecisionTreeRegressor\n",
    "from sklearn.neighbors import KNeighborsRegressor\n",
    "from sklearn.ensemble import RandomForestRegressor, GradientBoostingRegressor\n",
    "from sklearn.svm import SVR, LinearSVR\n",
    "from sklearn.metrics import mean_squared_error"
   ]
  },
  {
   "cell_type": "markdown",
   "metadata": {},
   "source": [
    "#### LinearRegression"
   ]
  },
  {
   "cell_type": "code",
   "execution_count": 280,
   "metadata": {
    "scrolled": false
   },
   "outputs": [
    {
     "name": "stdout",
     "output_type": "stream",
     "text": [
      "[ColumnTransformer]  (1 of 2) Processing continuous_imputer, total=   0.0s\n",
      "[ColumnTransformer]  (2 of 2) Processing categorical_imputer, total=   0.1s\n",
      "[ColumnTransformer]  (1 of 2) Processing continuous_imputer, total=   0.0s\n",
      "[ColumnTransformer]  (2 of 2) Processing categorical_imputer, total=   0.0s\n",
      "96.20380417062499\n"
     ]
    }
   ],
   "source": [
    "linear_reg = LinearRegression()\n",
    "\n",
    "pipe_lr = Pipeline([(\"pipe_transform\", pipe_transform), (\"linear_reg\", linear_reg)])\n",
    "pipe_lr.fit(X_train, y_train)\n",
    "\n",
    "X_test = pipe_transform.fit_transform(X_test)\n",
    "y_preds = linear_reg.predict(X_test)\n",
    "\n",
    "score=100*max(0, 1 - mean_squared_error(y_test, y_preds))\n",
    "\n",
    "print(score)"
   ]
  },
  {
   "cell_type": "markdown",
   "metadata": {},
   "source": [
    "#### Ridge"
   ]
  },
  {
   "cell_type": "code",
   "execution_count": 281,
   "metadata": {},
   "outputs": [
    {
     "name": "stdout",
     "output_type": "stream",
     "text": [
      "[ColumnTransformer]  (1 of 2) Processing continuous_imputer, total=   0.0s\n",
      "[ColumnTransformer]  (2 of 2) Processing categorical_imputer, total=   0.1s\n",
      "96.26377008179607\n"
     ]
    }
   ],
   "source": [
    "ridge = Ridge()\n",
    "\n",
    "pipe_ridge = Pipeline([(\"pipe_transform\", pipe_transform), (\"ridge\", ridge)])\n",
    "pipe_ridge.fit(X_train, y_train)\n",
    "\n",
    "# X_test = pipe_transform.fit_transform(X_test) // X_test has already been transformed in the Linear Regression Stage\n",
    "y_preds = ridge.predict(X_test)\n",
    "\n",
    "score=100*max(0, 1 - mean_squared_error(y_test, y_preds))\n",
    "\n",
    "print(score)"
   ]
  },
  {
   "cell_type": "markdown",
   "metadata": {},
   "source": [
    "#### Decision Tree"
   ]
  },
  {
   "cell_type": "code",
   "execution_count": 282,
   "metadata": {},
   "outputs": [
    {
     "name": "stdout",
     "output_type": "stream",
     "text": [
      "[ColumnTransformer]  (1 of 2) Processing continuous_imputer, total=   0.0s\n",
      "[ColumnTransformer]  (2 of 2) Processing categorical_imputer, total=   0.1s\n",
      "92.56883369785714\n"
     ]
    }
   ],
   "source": [
    "decision_tree = DecisionTreeRegressor()\n",
    "\n",
    "pipe_decision = Pipeline([(\"pipe_transform\", pipe_transform), (\"decision_tree\", decision_tree)])\n",
    "pipe_decision.fit(X_train, y_train)\n",
    "\n",
    "# X_test = pipe_transform.fit_transform(X_test) // X_test has already been transformed in the Linear Regression Stage\n",
    "y_preds = decision_tree.predict(X_test)\n",
    "\n",
    "score=100*max(0, 1 - mean_squared_error(y_test, y_preds))\n",
    "\n",
    "print(score)"
   ]
  },
  {
   "cell_type": "markdown",
   "metadata": {},
   "source": [
    "#### KNN"
   ]
  },
  {
   "cell_type": "code",
   "execution_count": 283,
   "metadata": {},
   "outputs": [
    {
     "name": "stdout",
     "output_type": "stream",
     "text": [
      "[ColumnTransformer]  (1 of 2) Processing continuous_imputer, total=   0.0s\n",
      "[ColumnTransformer]  (2 of 2) Processing categorical_imputer, total=   0.1s\n",
      "95.92272696491429\n"
     ]
    }
   ],
   "source": [
    "knn = KNeighborsRegressor()\n",
    "\n",
    "pipe_knn = Pipeline([(\"pipe_transform\", pipe_transform), (\"knn\", knn)])\n",
    "pipe_knn.fit(X_train, y_train)\n",
    "\n",
    "# X_test = pipe_transform.fit_transform(X_test) // X_test has already been transformed in the Linear Regression Stage\n",
    "y_preds = knn.predict(X_test)\n",
    "\n",
    "score=100*max(0, 1 - mean_squared_error(y_test, y_preds))\n",
    "\n",
    "print(score)"
   ]
  },
  {
   "cell_type": "markdown",
   "metadata": {},
   "source": [
    "#### Random Forest"
   ]
  },
  {
   "cell_type": "code",
   "execution_count": 284,
   "metadata": {},
   "outputs": [
    {
     "name": "stdout",
     "output_type": "stream",
     "text": [
      "[ColumnTransformer]  (1 of 2) Processing continuous_imputer, total=   0.0s\n",
      "[ColumnTransformer]  (2 of 2) Processing categorical_imputer, total=   0.1s\n",
      "96.35724860543912\n"
     ]
    }
   ],
   "source": [
    "random_forest = RandomForestRegressor()\n",
    "\n",
    "pipe_random = Pipeline([(\"pipe_transform\", pipe_transform), (\"random_forest\", random_forest)])\n",
    "pipe_random.fit(X_train, y_train)\n",
    "\n",
    "# X_test = pipe_transform.fit_transform(X_test) // X_test has already been transformed in the Linear Regression Stage\n",
    "y_preds = random_forest.predict(X_test)\n",
    "\n",
    "score=100*max(0, 1 - mean_squared_error(y_test, y_preds))\n",
    "\n",
    "print(score)"
   ]
  },
  {
   "cell_type": "markdown",
   "metadata": {},
   "source": [
    "#### Gradient Boosting"
   ]
  },
  {
   "cell_type": "code",
   "execution_count": 285,
   "metadata": {},
   "outputs": [
    {
     "name": "stdout",
     "output_type": "stream",
     "text": [
      "[ColumnTransformer]  (1 of 2) Processing continuous_imputer, total=   0.0s\n",
      "[ColumnTransformer]  (2 of 2) Processing categorical_imputer, total=   0.1s\n",
      "96.36241934505023\n"
     ]
    }
   ],
   "source": [
    "gboosting = GradientBoostingRegressor()\n",
    "\n",
    "pipe_gboosting = Pipeline([(\"pipe_transform\", pipe_transform), (\"gboosting\", gboosting)])\n",
    "pipe_gboosting.fit(X_train, y_train)\n",
    "\n",
    "# X_test = pipe_transform.fit_transform(X_test) // X_test has already been transformed in the Linear Regression Stage\n",
    "y_preds = gboosting.predict(X_test)\n",
    "\n",
    "score=100*max(0, 1 - mean_squared_error(y_test, y_preds))\n",
    "\n",
    "print(score)"
   ]
  },
  {
   "cell_type": "markdown",
   "metadata": {},
   "source": [
    "#### SVR"
   ]
  },
  {
   "cell_type": "code",
   "execution_count": 286,
   "metadata": {},
   "outputs": [
    {
     "name": "stdout",
     "output_type": "stream",
     "text": [
      "[ColumnTransformer]  (1 of 2) Processing continuous_imputer, total=   0.0s\n",
      "[ColumnTransformer]  (2 of 2) Processing categorical_imputer, total=   0.1s\n",
      "95.9098413791765\n"
     ]
    }
   ],
   "source": [
    "svr = SVR()\n",
    "\n",
    "pipe_svr = Pipeline([(\"pipe_transform\", pipe_transform), (\"svr\", svr)])\n",
    "pipe_svr.fit(X_train, y_train)\n",
    "\n",
    "# X_test = pipe_transform.fit_transform(X_test) // X_test has already been transformed in the Linear Regression Stage\n",
    "y_preds = svr.predict(X_test)\n",
    "\n",
    "score=100*max(0, 1 - mean_squared_error(y_test, y_preds))\n",
    "\n",
    "print(score)"
   ]
  },
  {
   "cell_type": "markdown",
   "metadata": {},
   "source": [
    "#### Linear SVR"
   ]
  },
  {
   "cell_type": "code",
   "execution_count": 287,
   "metadata": {},
   "outputs": [
    {
     "name": "stdout",
     "output_type": "stream",
     "text": [
      "[ColumnTransformer]  (1 of 2) Processing continuous_imputer, total=   0.0s\n",
      "[ColumnTransformer]  (2 of 2) Processing categorical_imputer, total=   0.1s\n",
      "96.13230816797989\n"
     ]
    },
    {
     "name": "stderr",
     "output_type": "stream",
     "text": [
      "C:\\Users\\Kelvin Kinda\\Anaconda3\\lib\\site-packages\\sklearn\\svm\\_base.py:947: ConvergenceWarning: Liblinear failed to converge, increase the number of iterations.\n",
      "  \"the number of iterations.\", ConvergenceWarning)\n"
     ]
    }
   ],
   "source": [
    "linear_svr = LinearSVR()\n",
    "\n",
    "pipe_linear_svr = Pipeline([(\"pipe_transform\", pipe_transform), (\"linear_svr\", linear_svr)])\n",
    "pipe_linear_svr.fit(X_train, y_train)\n",
    "\n",
    "# X_test = pipe_transform.fit_transform(X_test) // X_test has already been transformed in the Linear Regression Stage\n",
    "y_preds = linear_svr.predict(X_test)\n",
    "\n",
    "score=100*max(0, 1 - mean_squared_error(y_test, y_preds))\n",
    "\n",
    "print(score)"
   ]
  },
  {
   "cell_type": "markdown",
   "metadata": {},
   "source": [
    "### Write Submissions to File"
   ]
  },
  {
   "cell_type": "markdown",
   "metadata": {},
   "source": [
    "#### Read in test data"
   ]
  },
  {
   "cell_type": "code",
   "execution_count": 291,
   "metadata": {},
   "outputs": [],
   "source": [
    "employees_test = pd.read_csv(\"./Attrition_Rate_Prediction/Dataset/Test.csv\")"
   ]
  },
  {
   "cell_type": "code",
   "execution_count": 292,
   "metadata": {},
   "outputs": [],
   "source": [
    "def writeToFile(model, test_data, model_name):\n",
    "    IDs = test_data['Employee_ID']\n",
    "    test = test_data.drop(\"Employee_ID\", axis=1)\n",
    "\n",
    "    test = pipe_transform.fit_transform(test)\n",
    "\n",
    "    preds = model.predict(test)\n",
    "    pd.DataFrame({\"Attrition_rate\" : preds, \"Employee_ID\" : IDs, }).to_csv(model_name + '.csv',index=False)"
   ]
  },
  {
   "cell_type": "code",
   "execution_count": 293,
   "metadata": {},
   "outputs": [
    {
     "name": "stdout",
     "output_type": "stream",
     "text": [
      "[ColumnTransformer]  (1 of 2) Processing continuous_imputer, total=   0.0s\n",
      "[ColumnTransformer]  (2 of 2) Processing categorical_imputer, total=   0.1s\n"
     ]
    }
   ],
   "source": [
    "writeToFile(linear_reg, employees_test, \"LinearRegression_1\")"
   ]
  },
  {
   "cell_type": "code",
   "execution_count": null,
   "metadata": {},
   "outputs": [],
   "source": []
  }
 ],
 "metadata": {
  "kernelspec": {
   "display_name": "Python 3",
   "language": "python",
   "name": "python3"
  },
  "language_info": {
   "codemirror_mode": {
    "name": "ipython",
    "version": 3
   },
   "file_extension": ".py",
   "mimetype": "text/x-python",
   "name": "python",
   "nbconvert_exporter": "python",
   "pygments_lexer": "ipython3",
   "version": "3.6.4"
  }
 },
 "nbformat": 4,
 "nbformat_minor": 2
}
